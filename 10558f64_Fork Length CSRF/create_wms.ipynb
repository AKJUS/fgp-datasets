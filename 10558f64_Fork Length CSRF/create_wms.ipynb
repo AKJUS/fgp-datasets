{
 "cells": [
  {
   "cell_type": "code",
   "execution_count": 2,
   "id": "initial_id",
   "metadata": {
    "collapsed": true,
    "ExecuteTime": {
     "end_time": "2024-02-16T14:08:25.121362600Z",
     "start_time": "2024-02-16T14:08:25.077328800Z"
    }
   },
   "outputs": [
    {
     "data": {
      "text/plain": "         river_rivière  age_âge  year_année  latitude_latitude  \\\n0      Miramichi River        1        1971          46.933169   \n1      Sand Hill River        1        1971          53.581429   \n2    Western Arm Brook        1        1971          51.190752   \n3      Miramichi River        1        1972          46.933169   \n4      Miramichi River        2        1972          46.933169   \n..                 ...      ...         ...                ...   \n704    Miramichi River        2        2021          46.933169   \n705     Nashwaak River        1        2021          46.117667   \n706     Nashwaak River        2        2021          46.117667   \n707   Terra Nova River        1        2021          48.667620   \n708  Western Arm Brook        1        2021          51.190752   \n\n     longitude_longitude  n_n  mean fork length_longueur moyenne à la fourche  \n0             -65.650788  251                                      511.513944  \n1             -56.351120  389                                      544.455013  \n2             -56.753424   77                                      527.909091  \n3             -65.650788  687                                      520.181950  \n4             -65.650788  488                                      709.252049  \n..                   ...  ...                                             ...  \n704           -65.650788  329                                      760.145897  \n705           -66.589062   51                                      579.843137  \n706           -66.589062   13                                      784.076923  \n707           -54.002506   49                                      522.244898  \n708           -56.753424   57                                      557.105263  \n\n[709 rows x 7 columns]",
      "text/html": "<div>\n<style scoped>\n    .dataframe tbody tr th:only-of-type {\n        vertical-align: middle;\n    }\n\n    .dataframe tbody tr th {\n        vertical-align: top;\n    }\n\n    .dataframe thead th {\n        text-align: right;\n    }\n</style>\n<table border=\"1\" class=\"dataframe\">\n  <thead>\n    <tr style=\"text-align: right;\">\n      <th></th>\n      <th>river_rivière</th>\n      <th>age_âge</th>\n      <th>year_année</th>\n      <th>latitude_latitude</th>\n      <th>longitude_longitude</th>\n      <th>n_n</th>\n      <th>mean fork length_longueur moyenne à la fourche</th>\n    </tr>\n  </thead>\n  <tbody>\n    <tr>\n      <th>0</th>\n      <td>Miramichi River</td>\n      <td>1</td>\n      <td>1971</td>\n      <td>46.933169</td>\n      <td>-65.650788</td>\n      <td>251</td>\n      <td>511.513944</td>\n    </tr>\n    <tr>\n      <th>1</th>\n      <td>Sand Hill River</td>\n      <td>1</td>\n      <td>1971</td>\n      <td>53.581429</td>\n      <td>-56.351120</td>\n      <td>389</td>\n      <td>544.455013</td>\n    </tr>\n    <tr>\n      <th>2</th>\n      <td>Western Arm Brook</td>\n      <td>1</td>\n      <td>1971</td>\n      <td>51.190752</td>\n      <td>-56.753424</td>\n      <td>77</td>\n      <td>527.909091</td>\n    </tr>\n    <tr>\n      <th>3</th>\n      <td>Miramichi River</td>\n      <td>1</td>\n      <td>1972</td>\n      <td>46.933169</td>\n      <td>-65.650788</td>\n      <td>687</td>\n      <td>520.181950</td>\n    </tr>\n    <tr>\n      <th>4</th>\n      <td>Miramichi River</td>\n      <td>2</td>\n      <td>1972</td>\n      <td>46.933169</td>\n      <td>-65.650788</td>\n      <td>488</td>\n      <td>709.252049</td>\n    </tr>\n    <tr>\n      <th>...</th>\n      <td>...</td>\n      <td>...</td>\n      <td>...</td>\n      <td>...</td>\n      <td>...</td>\n      <td>...</td>\n      <td>...</td>\n    </tr>\n    <tr>\n      <th>704</th>\n      <td>Miramichi River</td>\n      <td>2</td>\n      <td>2021</td>\n      <td>46.933169</td>\n      <td>-65.650788</td>\n      <td>329</td>\n      <td>760.145897</td>\n    </tr>\n    <tr>\n      <th>705</th>\n      <td>Nashwaak River</td>\n      <td>1</td>\n      <td>2021</td>\n      <td>46.117667</td>\n      <td>-66.589062</td>\n      <td>51</td>\n      <td>579.843137</td>\n    </tr>\n    <tr>\n      <th>706</th>\n      <td>Nashwaak River</td>\n      <td>2</td>\n      <td>2021</td>\n      <td>46.117667</td>\n      <td>-66.589062</td>\n      <td>13</td>\n      <td>784.076923</td>\n    </tr>\n    <tr>\n      <th>707</th>\n      <td>Terra Nova River</td>\n      <td>1</td>\n      <td>2021</td>\n      <td>48.667620</td>\n      <td>-54.002506</td>\n      <td>49</td>\n      <td>522.244898</td>\n    </tr>\n    <tr>\n      <th>708</th>\n      <td>Western Arm Brook</td>\n      <td>1</td>\n      <td>2021</td>\n      <td>51.190752</td>\n      <td>-56.753424</td>\n      <td>57</td>\n      <td>557.105263</td>\n    </tr>\n  </tbody>\n</table>\n<p>709 rows × 7 columns</p>\n</div>"
     },
     "execution_count": 2,
     "metadata": {},
     "output_type": "execute_result"
    }
   ],
   "source": [
    "import pandas as pd\n",
    "\n",
    "df = pd.read_csv(\"AtlanticSalmonMeanForkLength.csv\", encoding=\"utf8\")\n",
    "df"
   ]
  },
  {
   "cell_type": "code",
   "execution_count": 3,
   "outputs": [],
   "source": [
    "# first question I have is weather the combination of rivers + coordinates is unique\n",
    "df_unqiue = df.loc[:, [\"river_rivière\", \"latitude_latitude\", \"longitude_longitude\"]].drop_duplicates()\n",
    "assert df_unqiue.shape[0] == df[\"river_rivière\"].unique().__len__()\n"
   ],
   "metadata": {
    "collapsed": false,
    "ExecuteTime": {
     "end_time": "2024-02-16T14:08:39.318953900Z",
     "start_time": "2024-02-16T14:08:39.296948800Z"
    }
   },
   "id": "2adc3399f26fbd7d"
  },
  {
   "cell_type": "markdown",
   "source": [
    "### Everything looks good!!"
   ],
   "metadata": {
    "collapsed": false
   },
   "id": "c2606d4e2d1de4"
  },
  {
   "cell_type": "code",
   "execution_count": 4,
   "outputs": [
    {
     "name": "stdout",
     "output_type": "stream",
     "text": [
      "Index(['river_rivière', 'age_âge', 'year_année', 'latitude_latitude',\n",
      "       'longitude_longitude', 'n_n',\n",
      "       'mean fork length_longueur moyenne à la fourche'],\n",
      "      dtype='object')\n"
     ]
    }
   ],
   "source": [
    "\n",
    "grouped = df.groupby(\"river_rivière\")\n",
    "print(df.columns)\n",
    "rivers = grouped.mean().index.to_list()\n",
    "latitude = grouped[\"latitude_latitude\"].mean().to_list()\n",
    "longitude = grouped[\"longitude_longitude\"].mean().to_list()\n",
    "mean_annual_count = grouped[\"n_n\"].mean().to_list()\n",
    "mean_annual_count_std = grouped[\"n_n\"].std().to_list()\n",
    "mean_fork_length = grouped[\"mean fork length_longueur moyenne à la fourche\"].mean().to_list()\n",
    "mean_fork_length_std = grouped[\"mean fork length_longueur moyenne à la fourche\"].std().to_list()"
   ],
   "metadata": {
    "collapsed": false,
    "ExecuteTime": {
     "end_time": "2024-02-16T14:08:43.776731900Z",
     "start_time": "2024-02-16T14:08:43.726076900Z"
    }
   },
   "id": "7c80ecb98d4e8be2"
  },
  {
   "cell_type": "code",
   "execution_count": 5,
   "outputs": [],
   "source": [
    "\n",
    "\n",
    "# there are a few tricky calculations; I am not sure the best way to do them\n",
    "years_sampled = list()\n",
    "sample_count = list()\n",
    "age_percentages = list()\n",
    "for river in rivers:\n",
    "    # years sampled\n",
    "    years = df.where(df[\"river_rivière\"] == river).dropna().sort_values(\"year_année\", ascending=True)[\"year_année\"].unique()\n",
    "    # should have a nicer, more succinct way to display things\n",
    "    final_display = list()\n",
    "    groups = list()\n",
    "    group = list()\n",
    "    prev = None\n",
    "    for year in years:\n",
    "        if not group.__len__():\n",
    "            group.append(year)\n",
    "        else:\n",
    "            if year == (prev + 1):\n",
    "                group.append(year)\n",
    "            else:\n",
    "                groups.append(group)\n",
    "                group = [year]\n",
    "        prev = year\n",
    "\n",
    "    if not groups or group != groups[-1]:\n",
    "        groups.append(group)\n",
    "\n",
    "    # formatting\n",
    "    for g in groups:\n",
    "        if g.__len__() == 1:\n",
    "            final_display.append(str(int(g[0])))\n",
    "        else:\n",
    "            final_display.append(f\"{int(g[0])}-{int(g[-1])}\")\n",
    "    years_sampled.append(\", \".join(final_display))\n",
    "    sample_count.append(years.__len__())\n",
    "\n",
    "    # ages\n",
    "    ages = df.where(df[\"river_rivière\"] == river).dropna()\n",
    "    counts = ages.value_counts(\"age_âge\")\n",
    "    total = ages.shape[0]\n",
    "    items = list()\n",
    "    for index, count in counts.items():\n",
    "        items.append(f\"age {int(index)}: {(count / total):.0%}\")\n",
    "    age_percentages.append(\", \".join(items))\n"
   ],
   "metadata": {
    "collapsed": false,
    "ExecuteTime": {
     "end_time": "2024-02-16T14:08:46.249052900Z",
     "start_time": "2024-02-16T14:08:46.146052Z"
    }
   },
   "id": "84e28de24ebcd10c"
  },
  {
   "cell_type": "code",
   "execution_count": null,
   "outputs": [],
   "source": [],
   "metadata": {
    "collapsed": false,
    "ExecuteTime": {
     "start_time": "2024-02-16T14:07:21.655857Z"
    }
   },
   "id": "c5dbdfd5a324c8dc"
  },
  {
   "cell_type": "code",
   "execution_count": 6,
   "outputs": [],
   "source": [
    "# assemble the final dataframes in english and french\n",
    "final_df_eng = pd.DataFrame({\n",
    "    \"river name\": rivers,\n",
    "    \"latitude\": latitude,\n",
    "    \"longitude\": longitude,\n",
    "    \"annual count, mean\": mean_annual_count,\n",
    "    \"annual count, standard deviation\": mean_annual_count_std,\n",
    "    \"fork length, mean\": mean_fork_length,\n",
    "    \"fork length, standard deviation\": mean_fork_length_std,\n",
    "    \"number of years sampled\": sample_count,\n",
    "    \"years sampled, inclusive\": years_sampled,\n",
    "    \"age percentage breakdown\": age_percentages,\n",
    "})\n",
    "\n",
    "final_df_eng.to_csv(\"AtlanticSalmonMeanForkLength WMS (EN).csv\")"
   ],
   "metadata": {
    "collapsed": false,
    "ExecuteTime": {
     "end_time": "2024-02-16T14:08:49.963831700Z",
     "start_time": "2024-02-16T14:08:49.949827700Z"
    }
   },
   "id": "a52f8c698edaa78f"
  },
  {
   "cell_type": "code",
   "execution_count": 7,
   "outputs": [],
   "source": [
    "# assemble the final dataframes in english and french\n",
    "final_df_fra = pd.DataFrame({\n",
    "    \"nom de la rivière\": rivers,\n",
    "    \"latitude\": latitude,\n",
    "    \"longitude\": longitude,\n",
    "    \"comptage annuel, moyenne\": mean_annual_count,\n",
    "    \"comptage annuel, écart-type\": mean_annual_count_std,\n",
    "    \"longueur de la fourche, moyenne\": mean_fork_length,\n",
    "    \"longueur de la fourche, écart type\": mean_fork_length_std,\n",
    "    \"nombre d'années d'échantillonnage\": sample_count,\n",
    "    \"années échantillonnées, incluses\": years_sampled,\n",
    "    \"ventilation des pourcentages d'âge\": age_percentages,\n",
    "\n",
    "})\n",
    "\n",
    "final_df_fra.to_csv(\"AtlanticSalmonMeanForkLength WMS (FR).csv\")"
   ],
   "metadata": {
    "collapsed": false,
    "ExecuteTime": {
     "end_time": "2024-02-16T14:08:52.418897800Z",
     "start_time": "2024-02-16T14:08:52.394573600Z"
    }
   },
   "id": "df8cb830ef4f742"
  },
  {
   "cell_type": "code",
   "execution_count": 8,
   "outputs": [],
   "source": [
    "import geojson\n",
    "from geojson import Feature, Point, FeatureCollection\n",
    "\n",
    "feature_list = list()\n",
    "for index, row in final_df_eng.iterrows():\n",
    "    feature_list.append(\n",
    "        Feature(geometry=Point((row[\"longitude\"], row[\"latitude\"])),\n",
    "                properties={\n",
    "                    \"river name\": row[\"river name\"],\n",
    "                    \"latitude\": row[\"latitude\"],\n",
    "                    \"longitude\": row[\"longitude\"],\n",
    "                    \"annual count, mean\": row[\"annual count, mean\"],\n",
    "                    \"annual count, standard deviation\": row[\"annual count, standard deviation\"],\n",
    "                    \"fork length, mean\": row[\"fork length, mean\"],\n",
    "                    \"fork length, standard deviation\": row[\"fork length, standard deviation\"],\n",
    "                    \"number of years sampled\": row[\"number of years sampled\"],\n",
    "                    \"years sampled, inclusive\": row[\"years sampled, inclusive\"],\n",
    "                    \"age percentage breakdown\": row[\"age percentage breakdown\"],\n",
    "                })\n",
    "    )\n",
    "\n",
    "collection = FeatureCollection(feature_list)\n",
    "with open(\"AtlanticSalmonMeanForkLength WMS (EN).geojson\", \"w\", encoding=\"utf8\") as file:\n",
    "    file.write(geojson.dumps(collection).encode(\"utf8\").decode(\"utf8\"))\n",
    "    \n",
    "    "
   ],
   "metadata": {
    "collapsed": false,
    "ExecuteTime": {
     "end_time": "2024-02-16T14:08:54.448720100Z",
     "start_time": "2024-02-16T14:08:54.421486500Z"
    }
   },
   "id": "f8ffacbe2a38d44a"
  },
  {
   "cell_type": "code",
   "execution_count": 9,
   "outputs": [],
   "source": [
    "feature_list = list()\n",
    "for index, row in final_df_fra.iterrows():\n",
    "    feature_list.append(\n",
    "        Feature(geometry=Point((row[\"longitude\"], row[\"latitude\"])),\n",
    "                properties={\n",
    "                    \"nom de la rivière\": row[\"nom de la rivière\"],\n",
    "                    \"latitude\": row[\"latitude\"],\n",
    "                    \"longitude\": row[\"longitude\"],\n",
    "                    \"comptage annuel, moyenne\": row[\"comptage annuel, moyenne\"],\n",
    "                    \"comptage annuel, écart-type\": row[\"comptage annuel, écart-type\"],\n",
    "                    \"longueur de la fourche, moyenne\": row[\"longueur de la fourche, moyenne\"],\n",
    "                    \"longueur de la fourche, écart type\": row[\"longueur de la fourche, écart type\"],\n",
    "                    \"nombre d'années d'échantillonnage\": row[\"nombre d'années d'échantillonnage\"],\n",
    "                    \"années échantillonnées, incluses\": row[\"années échantillonnées, incluses\"],\n",
    "                    \"ventilation des pourcentages d'âge\": row[\"ventilation des pourcentages d'âge\"],\n",
    "                })\n",
    "    )\n",
    "\n",
    "collection = FeatureCollection(feature_list)\n",
    "with open(\"AtlanticSalmonMeanForkLength WMS (FR).geojson\", \"w\", encoding=\"utf8\") as file:\n",
    "    file.write(geojson.dumps(collection).encode(\"utf8\").decode(\"utf8\"))\n",
    "  \n",
    "  "
   ],
   "metadata": {
    "collapsed": false,
    "ExecuteTime": {
     "end_time": "2024-02-16T14:08:56.841226400Z",
     "start_time": "2024-02-16T14:08:56.817230Z"
    }
   },
   "id": "c92f04c950ab5152"
  }
 ],
 "metadata": {
  "kernelspec": {
   "display_name": "Python 3",
   "language": "python",
   "name": "python3"
  },
  "language_info": {
   "codemirror_mode": {
    "name": "ipython",
    "version": 2
   },
   "file_extension": ".py",
   "mimetype": "text/x-python",
   "name": "python",
   "nbconvert_exporter": "python",
   "pygments_lexer": "ipython2",
   "version": "2.7.6"
  }
 },
 "nbformat": 4,
 "nbformat_minor": 5
}
