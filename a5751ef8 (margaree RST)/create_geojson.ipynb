{
 "cells": [
  {
   "cell_type": "code",
   "execution_count": 8,
   "outputs": [],
   "source": [
    "import geojson\n",
    "import pandas as pd\n",
    "from geojson import Feature, Point, FeatureCollection\n",
    "\n",
    "df_eng = pd.read_csv(\"rst_wms_en.csv\", encoding=\"windows-1252\")\n",
    "cols = df_eng.columns.tolist()\n",
    "cols.remove(\"Longitude\")\n",
    "cols.remove(\"Latitude\")\n",
    "\n",
    "feature_list = list()\n",
    "for index, row in df_eng.iterrows():\n",
    "    properties = dict()\n",
    "    for c in cols:\n",
    "        properties[c] = str(row[c])\n",
    "    feature_list.append(\n",
    "        Feature(geometry=Point((row[\"Longitude\"], row[\"Latitude\"])),\n",
    "                properties=properties)\n",
    "    )\n",
    "\n",
    "collection = FeatureCollection(feature_list)\n",
    "with open(\"rst_wms_en.geojson\", \"w\", encoding=\"utf8\") as file:\n",
    "    file.write(geojson.dumps(collection).encode(\"utf8\").decode(\"utf8\"))\n",
    "\n",
    "df_fra = pd.read_csv(\"rst_wms_fr.csv\", encoding=\"windows-1252\")\n",
    "cols = df_fra.columns.tolist()\n",
    "cols.remove(\"Longitude\")\n",
    "cols.remove(\"Latitude\")\n",
    "\n",
    "feature_list = list()\n",
    "for index, row in df_fra.iterrows():\n",
    "    properties = dict()\n",
    "    for c in cols:\n",
    "        properties[c] = str(row[c])\n",
    "    feature_list.append(\n",
    "        Feature(geometry=Point((row[\"Longitude\"], row[\"Latitude\"])),\n",
    "                properties=properties)\n",
    "    )\n",
    "\n",
    "collection = FeatureCollection(feature_list)\n",
    "with open(\"rst_wms_fr.geojson\", \"w\", encoding=\"utf8\") as file:\n",
    "    file.write(geojson.dumps(collection).encode(\"utf8\").decode(\"utf8\"))\n",
    "\n"
   ],
   "metadata": {
    "collapsed": false,
    "ExecuteTime": {
     "end_time": "2023-12-19T13:35:56.278301900Z",
     "start_time": "2023-12-19T13:35:56.246008Z"
    }
   },
   "id": "f8ffacbe2a38d44a"
  },
  {
   "cell_type": "code",
   "execution_count": 9,
   "outputs": [
    {
     "name": "stdout",
     "output_type": "stream",
     "text": [
      "-61.128119999999996 46.3155 -61.02812 46.415499999999994\n"
     ]
    }
   ],
   "source": [
    "# What is the bounding box of the dataset? \n",
    "print(\n",
    "    df_eng[\"Longitude\"].min()-0.05,\n",
    "    df_eng[\"Latitude\"].min()-0.05,\n",
    "    df_eng[\"Longitude\"].max()+0.05,\n",
    "    df_eng[\"Latitude\"].max()+0.05,\n",
    ")\n"
   ],
   "metadata": {
    "collapsed": false,
    "ExecuteTime": {
     "end_time": "2023-12-19T13:35:58.596308900Z",
     "start_time": "2023-12-19T13:35:58.576951200Z"
    }
   },
   "id": "e52aa089b92838af"
  }
 ],
 "metadata": {
  "kernelspec": {
   "display_name": "Python 3",
   "language": "python",
   "name": "python3"
  },
  "language_info": {
   "codemirror_mode": {
    "name": "ipython",
    "version": 2
   },
   "file_extension": ".py",
   "mimetype": "text/x-python",
   "name": "python",
   "nbconvert_exporter": "python",
   "pygments_lexer": "ipython2",
   "version": "2.7.6"
  }
 },
 "nbformat": 4,
 "nbformat_minor": 5
}
