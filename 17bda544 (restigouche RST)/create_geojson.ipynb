{
 "cells": [
  {
   "cell_type": "code",
   "execution_count": 4,
   "outputs": [],
   "source": [
    "import geojson\n",
    "import pandas as pd\n",
    "from geojson import Feature, Point, FeatureCollection\n",
    "\n",
    "df_eng = pd.read_csv(\"rst_wms_en.csv\", encoding=\"windows-1252\")\n",
    "cols = df_eng.columns.tolist()\n",
    "cols.remove(\"Longitude\")\n",
    "cols.remove(\"Latitude\")\n",
    "\n",
    "feature_list = list()\n",
    "for index, row in df_eng.iterrows():\n",
    "    properties = dict()\n",
    "    for c in cols:\n",
    "        properties[c] = str(row[c])\n",
    "    feature_list.append(\n",
    "        Feature(geometry=Point((row[\"Longitude\"], row[\"Latitude\"])),\n",
    "                properties=properties)\n",
    "    )\n",
    "\n",
    "collection = FeatureCollection(feature_list)\n",
    "with open(\"rst_wms_en.geojson\", \"w\", encoding=\"utf8\") as file:\n",
    "    file.write(geojson.dumps(collection).encode(\"utf8\").decode(\"utf8\"))\n",
    "\n",
    "df_fra = pd.read_csv(\"rst_wms_fr.csv\", encoding=\"windows-1252\")\n",
    "cols = df_fra.columns.tolist()\n",
    "cols.remove(\"Longitude\")\n",
    "cols.remove(\"Latitude\")\n",
    "\n",
    "feature_list = list()\n",
    "for index, row in df_fra.iterrows():\n",
    "    properties = dict()\n",
    "    for c in cols:\n",
    "        properties[c] = str(row[c])\n",
    "    feature_list.append(\n",
    "        Feature(geometry=Point((row[\"Longitude\"], row[\"Latitude\"])),\n",
    "                properties=properties)\n",
    "    )\n",
    "\n",
    "collection = FeatureCollection(feature_list)\n",
    "with open(\"rst_wms_fr.geojson\", \"w\", encoding=\"utf8\") as file:\n",
    "    file.write(geojson.dumps(collection).encode(\"utf8\").decode(\"utf8\"))\n",
    "\n"
   ],
   "metadata": {
    "collapsed": false,
    "ExecuteTime": {
     "end_time": "2023-12-19T13:35:34.688071200Z",
     "start_time": "2023-12-19T13:35:34.489137300Z"
    }
   },
   "id": "f8ffacbe2a38d44a"
  },
  {
   "cell_type": "code",
   "execution_count": 3,
   "outputs": [
    {
     "name": "stdout",
     "output_type": "stream",
     "text": [
      "-67.6187 47.5285 -66.8023 47.9971\n"
     ]
    }
   ],
   "source": [
    "# What is the bounding box of the dataset? \n",
    "print(\n",
    "    df_eng[\"Longitude\"].min(),\n",
    "    df_eng[\"Latitude\"].min(),\n",
    "    df_eng[\"Longitude\"].max(),\n",
    "    df_eng[\"Latitude\"].max(),\n",
    ")\n"
   ],
   "metadata": {
    "collapsed": false,
    "ExecuteTime": {
     "end_time": "2023-12-19T13:28:29.600703800Z",
     "start_time": "2023-12-19T13:28:29.585519700Z"
    }
   },
   "id": "e52aa089b92838af"
  }
 ],
 "metadata": {
  "kernelspec": {
   "display_name": "Python 3",
   "language": "python",
   "name": "python3"
  },
  "language_info": {
   "codemirror_mode": {
    "name": "ipython",
    "version": 2
   },
   "file_extension": ".py",
   "mimetype": "text/x-python",
   "name": "python",
   "nbconvert_exporter": "python",
   "pygments_lexer": "ipython2",
   "version": "2.7.6"
  }
 },
 "nbformat": 4,
 "nbformat_minor": 5
}
