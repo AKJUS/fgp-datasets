{
 "cells": [
  {
   "cell_type": "code",
   "execution_count": 52,
   "metadata": {
    "collapsed": true
   },
   "outputs": [
    {
     "data": {
      "text/plain": "      year__annee  month__mois  day__jour tow_trait  longitude  latitude  \\\n0            2019            7         12    GP354F   -60.3894  47.38342   \n1            2019            7         12    GP351F   -60.4655  47.43065   \n2            2019            7         12   GP353FR   -60.4038  47.52278   \n3            2019            7         12    GP352F   -60.4394  47.55585   \n4            2019            7         12    GP350F   -60.4835  47.51007   \n...           ...          ...        ...       ...        ...       ...   \n1050         2021            9         22    GP311F   -61.1144  47.16361   \n1051         2021            9         22    GP329F   -60.9160  47.16622   \n1052         2021            9         22    GP333F   -60.8754  47.26900   \n1053         2021            9         22    GP308F   -61.1538  47.32288   \n1054         2021            9         22    GP310F   -61.1367  47.37590   \n\n     start__depart             comment__commentaire  \\\n0          5:12:29          Variable 2 a 2.4 noeuds   \n1          6:55:00                 Stable ~ 2.1 kts   \n2          9:50:55  Force a cause de vase ~ 2.1 kts   \n3         11:10:07                 Stable ~ 2.1 kts   \n4         12:32:42                 Stable ~ 2.2 kts   \n...            ...                              ...   \n1050      14:54:40          Variable 2 a 2.4 noeuds   \n1051      16:23:06                 Stable ~ 2.2 kts   \n1052      17:23:09          Variable 2 a 2.4 noeuds   \n1053      19:31:12                 Stable ~ 2.2 kts   \n1054      20:19:22                 Stable ~ 2.2 kts   \n\n      snow_crab_males__males_de_crabe_des_neiges  \\\n0                                              0   \n1                                             64   \n2                                              0   \n3                                             18   \n4                                              0   \n...                                          ...   \n1050                                          24   \n1051                                          14   \n1052                                          37   \n1053                                          52   \n1054                                          43   \n\n      snow_crab_females__females_de_crabe_des_neiges  \\\n0                                                  0   \n1                                                  1   \n2                                                  0   \n3                                                  0   \n4                                                  0   \n...                                              ...   \n1050                                              80   \n1051                                              31   \n1052                                               3   \n1053                                               2   \n1054                                               4   \n\n      Atlantic_cod__morue_franche  American_plaice__plie_americaine  \\\n0                              27                                 0   \n1                               6                               113   \n2                               0                                 0   \n3                               1                                 0   \n4                              10                                 3   \n...                           ...                               ...   \n1050                           14                               293   \n1051                           25                               174   \n1052                           37                               286   \n1053                           11                               250   \n1054                            8                                68   \n\n      Yellowtail_flounder__limande_a_queue_jaune  winter_flounder__plie_rouge  \\\n0                                              0                            0   \n1                                              0                            0   \n2                                              0                            0   \n3                                              0                            0   \n4                                              0                            0   \n...                                          ...                          ...   \n1050                                          23                            0   \n1051                                           0                            0   \n1052                                           1                            0   \n1053                                          66                            0   \n1054                                         112                            0   \n\n      thorny_skate__raie_epineuset  smooth_skate__raie_lisse  \\\n0                                1                         0   \n1                               16                         2   \n2                                1                         4   \n3                                1                         5   \n4                               27                         5   \n...                            ...                       ...   \n1050                             0                         0   \n1051                             1                         0   \n1052                             0                         0   \n1053                             1                         0   \n1054                             3                         0   \n\n      longhorn_sculpin__chaboisseau_a_dix_huit_epines  \\\n0                                                   0   \n1                                                   0   \n2                                                   0   \n3                                                   0   \n4                                                   0   \n...                                               ...   \n1050                                                0   \n1051                                                0   \n1052                                                0   \n1053                                                0   \n1054                                                0   \n\n      sea_potato__patate_de_mer  Hyas_coarctatus  \n0                             0               11  \n1                             0                0  \n2                             0                0  \n3                             0                0  \n4                             0                0  \n...                         ...              ...  \n1050                          0                0  \n1051                          0                0  \n1052                          0                0  \n1053                          0                3  \n1054                          0                0  \n\n[1055 rows x 19 columns]",
      "text/html": "<div>\n<style scoped>\n    .dataframe tbody tr th:only-of-type {\n        vertical-align: middle;\n    }\n\n    .dataframe tbody tr th {\n        vertical-align: top;\n    }\n\n    .dataframe thead th {\n        text-align: right;\n    }\n</style>\n<table border=\"1\" class=\"dataframe\">\n  <thead>\n    <tr style=\"text-align: right;\">\n      <th></th>\n      <th>year__annee</th>\n      <th>month__mois</th>\n      <th>day__jour</th>\n      <th>tow_trait</th>\n      <th>longitude</th>\n      <th>latitude</th>\n      <th>start__depart</th>\n      <th>comment__commentaire</th>\n      <th>snow_crab_males__males_de_crabe_des_neiges</th>\n      <th>snow_crab_females__females_de_crabe_des_neiges</th>\n      <th>Atlantic_cod__morue_franche</th>\n      <th>American_plaice__plie_americaine</th>\n      <th>Yellowtail_flounder__limande_a_queue_jaune</th>\n      <th>winter_flounder__plie_rouge</th>\n      <th>thorny_skate__raie_epineuset</th>\n      <th>smooth_skate__raie_lisse</th>\n      <th>longhorn_sculpin__chaboisseau_a_dix_huit_epines</th>\n      <th>sea_potato__patate_de_mer</th>\n      <th>Hyas_coarctatus</th>\n    </tr>\n  </thead>\n  <tbody>\n    <tr>\n      <th>0</th>\n      <td>2019</td>\n      <td>7</td>\n      <td>12</td>\n      <td>GP354F</td>\n      <td>-60.3894</td>\n      <td>47.38342</td>\n      <td>5:12:29</td>\n      <td>Variable 2 a 2.4 noeuds</td>\n      <td>0</td>\n      <td>0</td>\n      <td>27</td>\n      <td>0</td>\n      <td>0</td>\n      <td>0</td>\n      <td>1</td>\n      <td>0</td>\n      <td>0</td>\n      <td>0</td>\n      <td>11</td>\n    </tr>\n    <tr>\n      <th>1</th>\n      <td>2019</td>\n      <td>7</td>\n      <td>12</td>\n      <td>GP351F</td>\n      <td>-60.4655</td>\n      <td>47.43065</td>\n      <td>6:55:00</td>\n      <td>Stable ~ 2.1 kts</td>\n      <td>64</td>\n      <td>1</td>\n      <td>6</td>\n      <td>113</td>\n      <td>0</td>\n      <td>0</td>\n      <td>16</td>\n      <td>2</td>\n      <td>0</td>\n      <td>0</td>\n      <td>0</td>\n    </tr>\n    <tr>\n      <th>2</th>\n      <td>2019</td>\n      <td>7</td>\n      <td>12</td>\n      <td>GP353FR</td>\n      <td>-60.4038</td>\n      <td>47.52278</td>\n      <td>9:50:55</td>\n      <td>Force a cause de vase ~ 2.1 kts</td>\n      <td>0</td>\n      <td>0</td>\n      <td>0</td>\n      <td>0</td>\n      <td>0</td>\n      <td>0</td>\n      <td>1</td>\n      <td>4</td>\n      <td>0</td>\n      <td>0</td>\n      <td>0</td>\n    </tr>\n    <tr>\n      <th>3</th>\n      <td>2019</td>\n      <td>7</td>\n      <td>12</td>\n      <td>GP352F</td>\n      <td>-60.4394</td>\n      <td>47.55585</td>\n      <td>11:10:07</td>\n      <td>Stable ~ 2.1 kts</td>\n      <td>18</td>\n      <td>0</td>\n      <td>1</td>\n      <td>0</td>\n      <td>0</td>\n      <td>0</td>\n      <td>1</td>\n      <td>5</td>\n      <td>0</td>\n      <td>0</td>\n      <td>0</td>\n    </tr>\n    <tr>\n      <th>4</th>\n      <td>2019</td>\n      <td>7</td>\n      <td>12</td>\n      <td>GP350F</td>\n      <td>-60.4835</td>\n      <td>47.51007</td>\n      <td>12:32:42</td>\n      <td>Stable ~ 2.2 kts</td>\n      <td>0</td>\n      <td>0</td>\n      <td>10</td>\n      <td>3</td>\n      <td>0</td>\n      <td>0</td>\n      <td>27</td>\n      <td>5</td>\n      <td>0</td>\n      <td>0</td>\n      <td>0</td>\n    </tr>\n    <tr>\n      <th>...</th>\n      <td>...</td>\n      <td>...</td>\n      <td>...</td>\n      <td>...</td>\n      <td>...</td>\n      <td>...</td>\n      <td>...</td>\n      <td>...</td>\n      <td>...</td>\n      <td>...</td>\n      <td>...</td>\n      <td>...</td>\n      <td>...</td>\n      <td>...</td>\n      <td>...</td>\n      <td>...</td>\n      <td>...</td>\n      <td>...</td>\n      <td>...</td>\n    </tr>\n    <tr>\n      <th>1050</th>\n      <td>2021</td>\n      <td>9</td>\n      <td>22</td>\n      <td>GP311F</td>\n      <td>-61.1144</td>\n      <td>47.16361</td>\n      <td>14:54:40</td>\n      <td>Variable 2 a 2.4 noeuds</td>\n      <td>24</td>\n      <td>80</td>\n      <td>14</td>\n      <td>293</td>\n      <td>23</td>\n      <td>0</td>\n      <td>0</td>\n      <td>0</td>\n      <td>0</td>\n      <td>0</td>\n      <td>0</td>\n    </tr>\n    <tr>\n      <th>1051</th>\n      <td>2021</td>\n      <td>9</td>\n      <td>22</td>\n      <td>GP329F</td>\n      <td>-60.9160</td>\n      <td>47.16622</td>\n      <td>16:23:06</td>\n      <td>Stable ~ 2.2 kts</td>\n      <td>14</td>\n      <td>31</td>\n      <td>25</td>\n      <td>174</td>\n      <td>0</td>\n      <td>0</td>\n      <td>1</td>\n      <td>0</td>\n      <td>0</td>\n      <td>0</td>\n      <td>0</td>\n    </tr>\n    <tr>\n      <th>1052</th>\n      <td>2021</td>\n      <td>9</td>\n      <td>22</td>\n      <td>GP333F</td>\n      <td>-60.8754</td>\n      <td>47.26900</td>\n      <td>17:23:09</td>\n      <td>Variable 2 a 2.4 noeuds</td>\n      <td>37</td>\n      <td>3</td>\n      <td>37</td>\n      <td>286</td>\n      <td>1</td>\n      <td>0</td>\n      <td>0</td>\n      <td>0</td>\n      <td>0</td>\n      <td>0</td>\n      <td>0</td>\n    </tr>\n    <tr>\n      <th>1053</th>\n      <td>2021</td>\n      <td>9</td>\n      <td>22</td>\n      <td>GP308F</td>\n      <td>-61.1538</td>\n      <td>47.32288</td>\n      <td>19:31:12</td>\n      <td>Stable ~ 2.2 kts</td>\n      <td>52</td>\n      <td>2</td>\n      <td>11</td>\n      <td>250</td>\n      <td>66</td>\n      <td>0</td>\n      <td>1</td>\n      <td>0</td>\n      <td>0</td>\n      <td>0</td>\n      <td>3</td>\n    </tr>\n    <tr>\n      <th>1054</th>\n      <td>2021</td>\n      <td>9</td>\n      <td>22</td>\n      <td>GP310F</td>\n      <td>-61.1367</td>\n      <td>47.37590</td>\n      <td>20:19:22</td>\n      <td>Stable ~ 2.2 kts</td>\n      <td>43</td>\n      <td>4</td>\n      <td>8</td>\n      <td>68</td>\n      <td>112</td>\n      <td>0</td>\n      <td>3</td>\n      <td>0</td>\n      <td>0</td>\n      <td>0</td>\n      <td>0</td>\n    </tr>\n  </tbody>\n</table>\n<p>1055 rows × 19 columns</p>\n</div>"
     },
     "execution_count": 52,
     "metadata": {},
     "output_type": "execute_result"
    }
   ],
   "source": [
    "\n",
    "import numpy as np\n",
    "import pandas as pd\n",
    "\n",
    "df = pd.read_csv(\"snow_crab_survey.csv\", encoding=\"windows-1252\")\n",
    "df"
   ]
  },
  {
   "cell_type": "code",
   "execution_count": 56,
   "outputs": [
    {
     "data": {
      "text/plain": "      year__annee  latitude  longitude            datetime\n0            2019  47.38342   -60.3894 2019-07-12 05:12:29\n1            2019  47.43065   -60.4655 2019-07-12 06:55:00\n2            2019  47.52278   -60.4038 2019-07-12 09:50:55\n3            2019  47.55585   -60.4394 2019-07-12 11:10:07\n4            2019  47.51007   -60.4835 2019-07-12 12:32:42\n...           ...       ...        ...                 ...\n1050         2021  47.16361   -61.1144 2021-09-22 14:54:40\n1051         2021  47.16622   -60.9160 2021-09-22 16:23:06\n1052         2021  47.26900   -60.8754 2021-09-22 17:23:09\n1053         2021  47.32288   -61.1538 2021-09-22 19:31:12\n1054         2021  47.37590   -61.1367 2021-09-22 20:19:22\n\n[1055 rows x 4 columns]",
      "text/html": "<div>\n<style scoped>\n    .dataframe tbody tr th:only-of-type {\n        vertical-align: middle;\n    }\n\n    .dataframe tbody tr th {\n        vertical-align: top;\n    }\n\n    .dataframe thead th {\n        text-align: right;\n    }\n</style>\n<table border=\"1\" class=\"dataframe\">\n  <thead>\n    <tr style=\"text-align: right;\">\n      <th></th>\n      <th>year__annee</th>\n      <th>latitude</th>\n      <th>longitude</th>\n      <th>datetime</th>\n    </tr>\n  </thead>\n  <tbody>\n    <tr>\n      <th>0</th>\n      <td>2019</td>\n      <td>47.38342</td>\n      <td>-60.3894</td>\n      <td>2019-07-12 05:12:29</td>\n    </tr>\n    <tr>\n      <th>1</th>\n      <td>2019</td>\n      <td>47.43065</td>\n      <td>-60.4655</td>\n      <td>2019-07-12 06:55:00</td>\n    </tr>\n    <tr>\n      <th>2</th>\n      <td>2019</td>\n      <td>47.52278</td>\n      <td>-60.4038</td>\n      <td>2019-07-12 09:50:55</td>\n    </tr>\n    <tr>\n      <th>3</th>\n      <td>2019</td>\n      <td>47.55585</td>\n      <td>-60.4394</td>\n      <td>2019-07-12 11:10:07</td>\n    </tr>\n    <tr>\n      <th>4</th>\n      <td>2019</td>\n      <td>47.51007</td>\n      <td>-60.4835</td>\n      <td>2019-07-12 12:32:42</td>\n    </tr>\n    <tr>\n      <th>...</th>\n      <td>...</td>\n      <td>...</td>\n      <td>...</td>\n      <td>...</td>\n    </tr>\n    <tr>\n      <th>1050</th>\n      <td>2021</td>\n      <td>47.16361</td>\n      <td>-61.1144</td>\n      <td>2021-09-22 14:54:40</td>\n    </tr>\n    <tr>\n      <th>1051</th>\n      <td>2021</td>\n      <td>47.16622</td>\n      <td>-60.9160</td>\n      <td>2021-09-22 16:23:06</td>\n    </tr>\n    <tr>\n      <th>1052</th>\n      <td>2021</td>\n      <td>47.26900</td>\n      <td>-60.8754</td>\n      <td>2021-09-22 17:23:09</td>\n    </tr>\n    <tr>\n      <th>1053</th>\n      <td>2021</td>\n      <td>47.32288</td>\n      <td>-61.1538</td>\n      <td>2021-09-22 19:31:12</td>\n    </tr>\n    <tr>\n      <th>1054</th>\n      <td>2021</td>\n      <td>47.37590</td>\n      <td>-61.1367</td>\n      <td>2021-09-22 20:19:22</td>\n    </tr>\n  </tbody>\n</table>\n<p>1055 rows × 4 columns</p>\n</div>"
     },
     "execution_count": 56,
     "metadata": {},
     "output_type": "execute_result"
    }
   ],
   "source": [
    "# get a distinct list of years\n",
    "years = df[\"year__annee\"].unique().tolist()\n",
    "\n",
    "\n",
    "# add a new column that is a datetime\n",
    "def combine_date(row):\n",
    "    year = str(row[\"year__annee\"]).zfill(4)\n",
    "    month = str(row[\"month__mois\"]).zfill(2)\n",
    "    day = str(row[\"day__jour\"]).zfill(2)\n",
    "    time = row[\"start__depart\"]\n",
    "    if not isinstance(time, str) and np.isnan(time):\n",
    "        return f\"{year}-{month}-{day}\"\n",
    "    else:\n",
    "        return f\"{year}-{month}-{day} {time}\"\n",
    "\n",
    "\n",
    "df[\"datetime\"] = pd.to_datetime(df.apply(combine_date, axis=1))\n",
    "df_trunc = df.sort_values(\"datetime\").loc[:, [\"year__annee\", \"latitude\", \"longitude\", \"datetime\"]]\n",
    "df_trunc"
   ],
   "metadata": {
    "collapsed": false
   }
  },
  {
   "cell_type": "code",
   "execution_count": 68,
   "outputs": [],
   "source": [
    "import fiona\n",
    "\n",
    "schema = {\n",
    "    'geometry': 'LineString',\n",
    "    'properties': [('Name', 'str')]\n",
    "}\n",
    "\n",
    "lineShp = fiona.open('snow_crab_coverage.shp', mode='w', driver='ESRI Shapefile', schema=schema, crs=\"EPSG:4326\")\n",
    "\n",
    "for year in years:\n",
    "    mask = df_trunc[\"year__annee\"] == year\n",
    "    coords = list()\n",
    "    for index, row in df_trunc[mask].iterrows():\n",
    "        coords.append((row[\"longitude\"], row[\"latitude\"]))\n",
    "\n",
    "    rowDict = {\n",
    "        'geometry': {'type': 'LineString',\n",
    "                     'coordinates': coords},\n",
    "        'properties': {'YearAnnee': year},\n",
    "    }\n",
    "    lineShp.write(rowDict)\n",
    "\n",
    "#close fiona object\n",
    "lineShp.close()\n",
    "\n",
    "\n"
   ],
   "metadata": {
    "collapsed": false
   }
  }
 ],
 "metadata": {
  "kernelspec": {
   "display_name": "Python 3",
   "language": "python",
   "name": "python3"
  },
  "language_info": {
   "codemirror_mode": {
    "name": "ipython",
    "version": 2
   },
   "file_extension": ".py",
   "mimetype": "text/x-python",
   "name": "python",
   "nbconvert_exporter": "python",
   "pygments_lexer": "ipython2",
   "version": "2.7.6"
  }
 },
 "nbformat": 4,
 "nbformat_minor": 0
}
