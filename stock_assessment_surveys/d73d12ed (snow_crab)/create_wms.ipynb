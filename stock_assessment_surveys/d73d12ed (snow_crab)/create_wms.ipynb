{
 "cells": [
  {
   "cell_type": "code",
   "execution_count": 5,
   "metadata": {
    "collapsed": true,
    "ExecuteTime": {
     "end_time": "2024-04-03T20:14:13.951838700Z",
     "start_time": "2024-04-03T20:14:13.932584400Z"
    }
   },
   "outputs": [
    {
     "data": {
      "text/plain": "Index(['year__année', 'month__mois', 'day__jour', 'tow__trait', 'longitude',\n       'latitude', 'start__départ', 'comment__commentaire',\n       'snow_crab_males__mâles_de_crabe_des_neiges',\n       'snow_crab_females__femelles_de_crabe_des_neiges',\n       'Atlantic_cod__morue_franche', 'American_plaice__plie_américaine',\n       'Yellowtail_flounder__limande_à_queue_jaune',\n       'winter_flounder__plie_rouge', 'thorny_skate__raie_épineuse',\n       'smooth_skate__raie_lisse',\n       'longhorn_sculpin__chaboisseau_à_dix_huit_épines',\n       'sea_potato__patate_de_mer', 'Hyas_coarctatus__crabe_lyre'],\n      dtype='object')"
     },
     "execution_count": 5,
     "metadata": {},
     "output_type": "execute_result"
    }
   ],
   "source": [
    "import os.path\n",
    "import shutil\n",
    "\n",
    "import numpy as np\n",
    "import pandas as pd\n",
    "\n",
    "df = pd.read_csv(\"scs.OpenData.2023.csv\", encoding=\"utf-8\")\n",
    "df.columns"
   ]
  },
  {
   "cell_type": "code",
   "execution_count": 6,
   "outputs": [],
   "source": [
    "# define the function to combine datetime from a row\n",
    "def combine_date(row):\n",
    "    year = str(row[\"year__année\"]).zfill(4)\n",
    "    month = str(row[\"month__mois\"]).zfill(2)\n",
    "    day = str(row[\"day__jour\"]).zfill(2)\n",
    "    time = row[\"start__départ\"]\n",
    "    if not isinstance(time, str) and np.isnan(time):\n",
    "        return f\"{year}-{month}-{day}\"\n",
    "    else:\n",
    "        return f\"{year}-{month}-{day} {time}\""
   ],
   "metadata": {
    "collapsed": false,
    "ExecuteTime": {
     "end_time": "2024-04-03T20:14:13.970629800Z",
     "start_time": "2024-04-03T20:14:13.951838700Z"
    }
   }
  },
  {
   "cell_type": "code",
   "execution_count": 7,
   "outputs": [
    {
     "data": {
      "text/plain": "      year__année   latitude  longitude            datetime\n7            2019  47.383417 -60.389367 2019-07-12 05:12:31\n4            2019  47.430650 -60.465467 2019-07-12 06:53:49\n6            2019  47.522783 -60.403833 2019-07-12 09:51:01\n5            2019  47.555850 -60.439400 2019-07-12 11:10:09\n3            2019  47.510067 -60.483467 2019-07-12 12:32:33\n...           ...        ...        ...                 ...\n1740         2023  46.449283 -61.479437 2023-09-04 07:22:38\n1742         2023  46.394638 -61.351182 2023-09-04 08:38:14\n1741         2023  46.508329 -61.410200 2023-09-04 09:37:58\n1743         2023  46.532849 -61.447729 2023-09-04 10:22:37\n1739         2023  46.607070 -61.544888 2023-09-04 11:19:54\n\n[1744 rows x 4 columns]",
      "text/html": "<div>\n<style scoped>\n    .dataframe tbody tr th:only-of-type {\n        vertical-align: middle;\n    }\n\n    .dataframe tbody tr th {\n        vertical-align: top;\n    }\n\n    .dataframe thead th {\n        text-align: right;\n    }\n</style>\n<table border=\"1\" class=\"dataframe\">\n  <thead>\n    <tr style=\"text-align: right;\">\n      <th></th>\n      <th>year__année</th>\n      <th>latitude</th>\n      <th>longitude</th>\n      <th>datetime</th>\n    </tr>\n  </thead>\n  <tbody>\n    <tr>\n      <th>7</th>\n      <td>2019</td>\n      <td>47.383417</td>\n      <td>-60.389367</td>\n      <td>2019-07-12 05:12:31</td>\n    </tr>\n    <tr>\n      <th>4</th>\n      <td>2019</td>\n      <td>47.430650</td>\n      <td>-60.465467</td>\n      <td>2019-07-12 06:53:49</td>\n    </tr>\n    <tr>\n      <th>6</th>\n      <td>2019</td>\n      <td>47.522783</td>\n      <td>-60.403833</td>\n      <td>2019-07-12 09:51:01</td>\n    </tr>\n    <tr>\n      <th>5</th>\n      <td>2019</td>\n      <td>47.555850</td>\n      <td>-60.439400</td>\n      <td>2019-07-12 11:10:09</td>\n    </tr>\n    <tr>\n      <th>3</th>\n      <td>2019</td>\n      <td>47.510067</td>\n      <td>-60.483467</td>\n      <td>2019-07-12 12:32:33</td>\n    </tr>\n    <tr>\n      <th>...</th>\n      <td>...</td>\n      <td>...</td>\n      <td>...</td>\n      <td>...</td>\n    </tr>\n    <tr>\n      <th>1740</th>\n      <td>2023</td>\n      <td>46.449283</td>\n      <td>-61.479437</td>\n      <td>2023-09-04 07:22:38</td>\n    </tr>\n    <tr>\n      <th>1742</th>\n      <td>2023</td>\n      <td>46.394638</td>\n      <td>-61.351182</td>\n      <td>2023-09-04 08:38:14</td>\n    </tr>\n    <tr>\n      <th>1741</th>\n      <td>2023</td>\n      <td>46.508329</td>\n      <td>-61.410200</td>\n      <td>2023-09-04 09:37:58</td>\n    </tr>\n    <tr>\n      <th>1743</th>\n      <td>2023</td>\n      <td>46.532849</td>\n      <td>-61.447729</td>\n      <td>2023-09-04 10:22:37</td>\n    </tr>\n    <tr>\n      <th>1739</th>\n      <td>2023</td>\n      <td>46.607070</td>\n      <td>-61.544888</td>\n      <td>2023-09-04 11:19:54</td>\n    </tr>\n  </tbody>\n</table>\n<p>1744 rows × 4 columns</p>\n</div>"
     },
     "execution_count": 7,
     "metadata": {},
     "output_type": "execute_result"
    }
   ],
   "source": [
    "# add a new column that is a datetime\n",
    "df[\"datetime\"] = pd.to_datetime(df.apply(combine_date, axis=1))\n",
    "df_trunc = df.sort_values(\"datetime\").loc[:, [\"year__année\", \"latitude\", \"longitude\", \"datetime\"]]\n",
    "df_trunc = df_trunc.drop_duplicates()\n",
    "df_trunc"
   ],
   "metadata": {
    "collapsed": false,
    "ExecuteTime": {
     "end_time": "2024-04-03T20:14:14.009615300Z",
     "start_time": "2024-04-03T20:14:13.967514600Z"
    }
   }
  },
  {
   "cell_type": "code",
   "execution_count": 8,
   "outputs": [],
   "source": [
    "from stock_assessment_surveys.utils.xy2line import xy2line\n",
    "xy2line(df_trunc)"
   ],
   "metadata": {
    "collapsed": false,
    "ExecuteTime": {
     "end_time": "2024-04-03T20:14:14.129521700Z",
     "start_time": "2024-04-03T20:14:14.011651400Z"
    }
   }
  }
 ],
 "metadata": {
  "kernelspec": {
   "display_name": "Python 3",
   "language": "python",
   "name": "python3"
  },
  "language_info": {
   "codemirror_mode": {
    "name": "ipython",
    "version": 2
   },
   "file_extension": ".py",
   "mimetype": "text/x-python",
   "name": "python",
   "nbconvert_exporter": "python",
   "pygments_lexer": "ipython2",
   "version": "2.7.6"
  }
 },
 "nbformat": 4,
 "nbformat_minor": 0
}
