{
 "cells": [
  {
   "cell_type": "code",
   "execution_count": 14,
   "metadata": {
    "collapsed": true
   },
   "outputs": [
    {
     "data": {
      "text/plain": "Index(['year__annee', 'month__mois', 'day__jour', 'tow_trait', 'longitude',\n       'latitude', 'start__depart', 'comment__commentaire',\n       'snow_crab_males__males_de_crabe_des_neiges',\n       'snow_crab_females__females_de_crabe_des_neiges',\n       'Atlantic_cod__morue_franche', 'American_plaice__plie_americaine',\n       'Yellowtail_flounder__limande_a_queue_jaune',\n       'winter_flounder__plie_rouge', 'thorny_skate__raie_epineuset',\n       'smooth_skate__raie_lisse',\n       'longhorn_sculpin__chaboisseau_a_dix_huit_epines',\n       'sea_potato__patate_de_mer', 'Hyas_coarctatus'],\n      dtype='object')"
     },
     "execution_count": 14,
     "metadata": {},
     "output_type": "execute_result"
    }
   ],
   "source": [
    "import os.path\n",
    "import shutil\n",
    "\n",
    "import numpy as np\n",
    "import pandas as pd\n",
    "\n",
    "df = pd.read_csv(\"snow_crab_survey.csv\", encoding=\"windows-1252\")\n",
    "df.columns"
   ]
  },
  {
   "cell_type": "code",
   "execution_count": 15,
   "outputs": [],
   "source": [
    "# define the function to combine datetime from a row\n",
    "def combine_date(row):\n",
    "    year = str(row[\"year__annee\"]).zfill(4)\n",
    "    month = str(row[\"month__mois\"]).zfill(2)\n",
    "    day = str(row[\"day__jour\"]).zfill(2)\n",
    "    time = row[\"start__depart\"]\n",
    "    if not isinstance(time, str) and np.isnan(time):\n",
    "        return f\"{year}-{month}-{day}\"\n",
    "    else:\n",
    "        return f\"{year}-{month}-{day} {time}\""
   ],
   "metadata": {
    "collapsed": false
   }
  },
  {
   "cell_type": "code",
   "execution_count": 16,
   "outputs": [
    {
     "data": {
      "text/plain": "      year__annee  latitude  longitude            datetime\n0            2019  47.38342   -60.3894 2019-07-12 05:12:29\n1            2019  47.43065   -60.4655 2019-07-12 06:55:00\n2            2019  47.52278   -60.4038 2019-07-12 09:50:55\n3            2019  47.55585   -60.4394 2019-07-12 11:10:07\n4            2019  47.51007   -60.4835 2019-07-12 12:32:42\n...           ...       ...        ...                 ...\n1050         2021  47.16361   -61.1144 2021-09-22 14:54:40\n1051         2021  47.16622   -60.9160 2021-09-22 16:23:06\n1052         2021  47.26900   -60.8754 2021-09-22 17:23:09\n1053         2021  47.32288   -61.1538 2021-09-22 19:31:12\n1054         2021  47.37590   -61.1367 2021-09-22 20:19:22\n\n[1055 rows x 4 columns]",
      "text/html": "<div>\n<style scoped>\n    .dataframe tbody tr th:only-of-type {\n        vertical-align: middle;\n    }\n\n    .dataframe tbody tr th {\n        vertical-align: top;\n    }\n\n    .dataframe thead th {\n        text-align: right;\n    }\n</style>\n<table border=\"1\" class=\"dataframe\">\n  <thead>\n    <tr style=\"text-align: right;\">\n      <th></th>\n      <th>year__annee</th>\n      <th>latitude</th>\n      <th>longitude</th>\n      <th>datetime</th>\n    </tr>\n  </thead>\n  <tbody>\n    <tr>\n      <th>0</th>\n      <td>2019</td>\n      <td>47.38342</td>\n      <td>-60.3894</td>\n      <td>2019-07-12 05:12:29</td>\n    </tr>\n    <tr>\n      <th>1</th>\n      <td>2019</td>\n      <td>47.43065</td>\n      <td>-60.4655</td>\n      <td>2019-07-12 06:55:00</td>\n    </tr>\n    <tr>\n      <th>2</th>\n      <td>2019</td>\n      <td>47.52278</td>\n      <td>-60.4038</td>\n      <td>2019-07-12 09:50:55</td>\n    </tr>\n    <tr>\n      <th>3</th>\n      <td>2019</td>\n      <td>47.55585</td>\n      <td>-60.4394</td>\n      <td>2019-07-12 11:10:07</td>\n    </tr>\n    <tr>\n      <th>4</th>\n      <td>2019</td>\n      <td>47.51007</td>\n      <td>-60.4835</td>\n      <td>2019-07-12 12:32:42</td>\n    </tr>\n    <tr>\n      <th>...</th>\n      <td>...</td>\n      <td>...</td>\n      <td>...</td>\n      <td>...</td>\n    </tr>\n    <tr>\n      <th>1050</th>\n      <td>2021</td>\n      <td>47.16361</td>\n      <td>-61.1144</td>\n      <td>2021-09-22 14:54:40</td>\n    </tr>\n    <tr>\n      <th>1051</th>\n      <td>2021</td>\n      <td>47.16622</td>\n      <td>-60.9160</td>\n      <td>2021-09-22 16:23:06</td>\n    </tr>\n    <tr>\n      <th>1052</th>\n      <td>2021</td>\n      <td>47.26900</td>\n      <td>-60.8754</td>\n      <td>2021-09-22 17:23:09</td>\n    </tr>\n    <tr>\n      <th>1053</th>\n      <td>2021</td>\n      <td>47.32288</td>\n      <td>-61.1538</td>\n      <td>2021-09-22 19:31:12</td>\n    </tr>\n    <tr>\n      <th>1054</th>\n      <td>2021</td>\n      <td>47.37590</td>\n      <td>-61.1367</td>\n      <td>2021-09-22 20:19:22</td>\n    </tr>\n  </tbody>\n</table>\n<p>1055 rows × 4 columns</p>\n</div>"
     },
     "execution_count": 16,
     "metadata": {},
     "output_type": "execute_result"
    }
   ],
   "source": [
    "# add a new column that is a datetime\n",
    "df[\"datetime\"] = pd.to_datetime(df.apply(combine_date, axis=1))\n",
    "df_trunc = df.sort_values(\"datetime\").loc[:, [\"year__annee\", \"latitude\", \"longitude\", \"datetime\"]]\n",
    "df_trunc = df_trunc.drop_duplicates()\n",
    "df_trunc"
   ],
   "metadata": {
    "collapsed": false
   }
  },
  {
   "cell_type": "code",
   "execution_count": 17,
   "outputs": [],
   "source": [
    "from stock_assessment_surveys.utils.xy2line import xy2line\n",
    "xy2line(df_trunc)"
   ],
   "metadata": {
    "collapsed": false
   }
  }
 ],
 "metadata": {
  "kernelspec": {
   "display_name": "Python 3",
   "language": "python",
   "name": "python3"
  },
  "language_info": {
   "codemirror_mode": {
    "name": "ipython",
    "version": 2
   },
   "file_extension": ".py",
   "mimetype": "text/x-python",
   "name": "python",
   "nbconvert_exporter": "python",
   "pygments_lexer": "ipython2",
   "version": "2.7.6"
  }
 },
 "nbformat": 4,
 "nbformat_minor": 0
}
