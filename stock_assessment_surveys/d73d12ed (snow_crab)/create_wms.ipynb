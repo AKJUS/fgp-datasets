{
 "cells": [
  {
   "cell_type": "code",
   "execution_count": 1,
   "metadata": {
    "collapsed": true
   },
   "outputs": [
    {
     "data": {
      "text/plain": "Index(['year__annee', 'month__mois', 'day__jour', 'tow__trait', 'longitude',\n       'latitude', 'start__depart', 'comment__commentaire',\n       'snow_crab_males__males_de_crabe_des_neiges',\n       'snow_crab_females__females_de_crabe_des_neiges',\n       'Atlantic_cod__morue_franche', 'American_plaice__plie_americaine',\n       'Yellowtail_flounder__limande_a_queue_jaune',\n       'winter_flounder__plie_rouge', 'thorny_skate__raie_epineuset',\n       'smooth_skate__raie_lisse',\n       'longhorn_sculpin__chaboisseau_a_dix_huit_epines',\n       'sea_potato__patate_de_mer', 'Hyas_coarctatus'],\n      dtype='object')"
     },
     "execution_count": 1,
     "metadata": {},
     "output_type": "execute_result"
    }
   ],
   "source": [
    "import os.path\n",
    "import shutil\n",
    "\n",
    "import numpy as np\n",
    "import pandas as pd\n",
    "\n",
    "df = pd.read_csv(\"snow_crab_survey.csv\", encoding=\"windows-1252\")\n",
    "df.columns"
   ]
  },
  {
   "cell_type": "code",
   "execution_count": 2,
   "outputs": [],
   "source": [
    "# define the function to combine datetime from a row\n",
    "def combine_date(row):\n",
    "    year = str(row[\"year__annee\"]).zfill(4)\n",
    "    month = str(row[\"month__mois\"]).zfill(2)\n",
    "    day = str(row[\"day__jour\"]).zfill(2)\n",
    "    time = row[\"start__depart\"]\n",
    "    if not isinstance(time, str) and np.isnan(time):\n",
    "        return f\"{year}-{month}-{day}\"\n",
    "    else:\n",
    "        return f\"{year}-{month}-{day} {time}\""
   ],
   "metadata": {
    "collapsed": false
   }
  },
  {
   "cell_type": "code",
   "execution_count": 3,
   "outputs": [
    {
     "data": {
      "text/plain": "      year__annee  latitude  longitude            datetime\n0            2019  47.38342   -60.3894 2019-07-12 05:12:29\n1            2019  47.43065   -60.4655 2019-07-12 06:55:00\n2            2019  47.52278   -60.4038 2019-07-12 09:50:55\n3            2019  47.55585   -60.4394 2019-07-12 11:10:07\n4            2019  47.51007   -60.4835 2019-07-12 12:32:42\n...           ...       ...        ...                 ...\n1393         2022  46.80943   -61.5015 2022-09-07 11:38:20\n1394         2022  46.73471   -61.3558 2022-09-07 12:52:26\n1395         2022  46.69394   -61.2367 2022-09-07 14:02:29\n1396         2022  46.63319   -61.2400 2022-09-07 15:01:27\n1397         2022  46.68318   -61.1246 2022-09-07 15:59:52\n\n[1398 rows x 4 columns]",
      "text/html": "<div>\n<style scoped>\n    .dataframe tbody tr th:only-of-type {\n        vertical-align: middle;\n    }\n\n    .dataframe tbody tr th {\n        vertical-align: top;\n    }\n\n    .dataframe thead th {\n        text-align: right;\n    }\n</style>\n<table border=\"1\" class=\"dataframe\">\n  <thead>\n    <tr style=\"text-align: right;\">\n      <th></th>\n      <th>year__annee</th>\n      <th>latitude</th>\n      <th>longitude</th>\n      <th>datetime</th>\n    </tr>\n  </thead>\n  <tbody>\n    <tr>\n      <th>0</th>\n      <td>2019</td>\n      <td>47.38342</td>\n      <td>-60.3894</td>\n      <td>2019-07-12 05:12:29</td>\n    </tr>\n    <tr>\n      <th>1</th>\n      <td>2019</td>\n      <td>47.43065</td>\n      <td>-60.4655</td>\n      <td>2019-07-12 06:55:00</td>\n    </tr>\n    <tr>\n      <th>2</th>\n      <td>2019</td>\n      <td>47.52278</td>\n      <td>-60.4038</td>\n      <td>2019-07-12 09:50:55</td>\n    </tr>\n    <tr>\n      <th>3</th>\n      <td>2019</td>\n      <td>47.55585</td>\n      <td>-60.4394</td>\n      <td>2019-07-12 11:10:07</td>\n    </tr>\n    <tr>\n      <th>4</th>\n      <td>2019</td>\n      <td>47.51007</td>\n      <td>-60.4835</td>\n      <td>2019-07-12 12:32:42</td>\n    </tr>\n    <tr>\n      <th>...</th>\n      <td>...</td>\n      <td>...</td>\n      <td>...</td>\n      <td>...</td>\n    </tr>\n    <tr>\n      <th>1393</th>\n      <td>2022</td>\n      <td>46.80943</td>\n      <td>-61.5015</td>\n      <td>2022-09-07 11:38:20</td>\n    </tr>\n    <tr>\n      <th>1394</th>\n      <td>2022</td>\n      <td>46.73471</td>\n      <td>-61.3558</td>\n      <td>2022-09-07 12:52:26</td>\n    </tr>\n    <tr>\n      <th>1395</th>\n      <td>2022</td>\n      <td>46.69394</td>\n      <td>-61.2367</td>\n      <td>2022-09-07 14:02:29</td>\n    </tr>\n    <tr>\n      <th>1396</th>\n      <td>2022</td>\n      <td>46.63319</td>\n      <td>-61.2400</td>\n      <td>2022-09-07 15:01:27</td>\n    </tr>\n    <tr>\n      <th>1397</th>\n      <td>2022</td>\n      <td>46.68318</td>\n      <td>-61.1246</td>\n      <td>2022-09-07 15:59:52</td>\n    </tr>\n  </tbody>\n</table>\n<p>1398 rows × 4 columns</p>\n</div>"
     },
     "execution_count": 3,
     "metadata": {},
     "output_type": "execute_result"
    }
   ],
   "source": [
    "# add a new column that is a datetime\n",
    "df[\"datetime\"] = pd.to_datetime(df.apply(combine_date, axis=1))\n",
    "df_trunc = df.sort_values(\"datetime\").loc[:, [\"year__annee\", \"latitude\", \"longitude\", \"datetime\"]]\n",
    "df_trunc = df_trunc.drop_duplicates()\n",
    "df_trunc"
   ],
   "metadata": {
    "collapsed": false
   }
  },
  {
   "cell_type": "code",
   "execution_count": 4,
   "outputs": [],
   "source": [
    "from stock_assessment_surveys.utils.xy2line import xy2line\n",
    "xy2line(df_trunc)"
   ],
   "metadata": {
    "collapsed": false
   }
  }
 ],
 "metadata": {
  "kernelspec": {
   "display_name": "Python 3",
   "language": "python",
   "name": "python3"
  },
  "language_info": {
   "codemirror_mode": {
    "name": "ipython",
    "version": 2
   },
   "file_extension": ".py",
   "mimetype": "text/x-python",
   "name": "python",
   "nbconvert_exporter": "python",
   "pygments_lexer": "ipython2",
   "version": "2.7.6"
  }
 },
 "nbformat": 4,
 "nbformat_minor": 0
}
