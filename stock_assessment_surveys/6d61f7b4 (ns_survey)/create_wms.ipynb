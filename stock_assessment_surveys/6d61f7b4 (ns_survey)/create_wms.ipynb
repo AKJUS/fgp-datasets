{
 "cells": [
  {
   "cell_type": "code",
   "execution_count": 1,
   "metadata": {
    "collapsed": true
   },
   "outputs": [
    {
     "data": {
      "text/plain": "       cruise_number__numero_de_croisiere  year__annee  month__mois  day_jour  \\\n0                                      24         2000            7        25   \n1                                      24         2000            7        25   \n2                                      24         2000            7        25   \n3                                      24         2000            7        25   \n4                                      24         2000            7        25   \n...                                   ...          ...          ...       ...   \n28529                                 152         2022            8         2   \n28530                                 152         2022            8         2   \n28531                                 152         2022            8         2   \n28532                                 152         2022            8         2   \n28533                                 152         2022            8         2   \n\n       start_hour__heure_de_depart  start_minute__minute_de_depart   latitude  \\\n0                             10.0                            39.0  46.774167   \n1                             10.0                            39.0  46.774167   \n2                             10.0                            39.0  46.774167   \n3                             10.0                            39.0  46.774167   \n4                             10.0                            39.0  46.774167   \n...                            ...                             ...        ...   \n28529                         11.0                            24.0  46.032833   \n28530                         11.0                            24.0  46.032833   \n28531                         11.0                            24.0  46.032833   \n28532                         11.0                            24.0  46.032833   \n28533                         11.0                            24.0  46.032833   \n\n       longitude                     gear__equipement  species__espece  \\\n0     -64.750917  No. 286 otter trawl with rockhopper               43   \n1     -64.750917  No. 286 otter trawl with rockhopper              122   \n2     -64.750917  No. 286 otter trawl with rockhopper             2550   \n3     -64.750917  No. 286 otter trawl with rockhopper             4330   \n4     -64.750917  No. 286 otter trawl with rockhopper             6200   \n...          ...                                  ...              ...   \n28529 -63.281083                 Northumberland trawl             2214   \n28530 -63.281083                 Northumberland trawl             2417   \n28531 -63.281083                 Northumberland trawl             2513   \n28532 -63.281083                 Northumberland trawl             2550   \n28533 -63.281083                 Northumberland trawl             6118   \n\n                   french_name__nom_francais  english_name__nom_anglais  \\\n0                                 Plie rouge            Winter flounder   \n1                            Tanche-tautogue                     Cunner   \n2                           Homard américain           American lobster   \n3                         Moule non-spécifié        Mussel unidentified   \n4                   Ophiuroidea non-spécifié  Brittle star unidentified   \n...                                      ...                        ...   \n28529  Crevette - Dichelopandalus leptocerus   Bristled longbeak shrimp   \n28530                         Crevette grise      Sevenspine bay shrimp   \n28531                           Crabe commun         Atlantic rock crab   \n28532                       Homard américain           American lobster   \n28533                  Henricia non-spécifié    Blood star unidentified   \n\n               latin_name__nom_latin  weight_caught__poids_pris  \\\n0      Pseudopleuronectes americanus                      0.500   \n1            Tautogolabrus adspersus                      0.800   \n2                 Homarus americanus                      3.800   \n3                     Mytilidae (f.)                      0.010   \n4                   Ophiuroidea (c.)                      0.010   \n...                              ...                        ...   \n28529     Dichelopandalus leptocerus                      0.005   \n28530          Crangon septemspinosa                      0.024   \n28531               Cancer irroratus                      0.238   \n28532             Homarus americanus                     17.000   \n28533                   Henricia sp.                      0.001   \n\n       number_caught__quantite_attrape  \n0                                  1.0  \n1                                  2.0  \n2                                 16.0  \n3                                  1.0  \n4                                  1.0  \n...                                ...  \n28529                              0.0  \n28530                              0.0  \n28531                              1.0  \n28532                             32.0  \n28533                              0.0  \n\n[28534 rows x 15 columns]",
      "text/html": "<div>\n<style scoped>\n    .dataframe tbody tr th:only-of-type {\n        vertical-align: middle;\n    }\n\n    .dataframe tbody tr th {\n        vertical-align: top;\n    }\n\n    .dataframe thead th {\n        text-align: right;\n    }\n</style>\n<table border=\"1\" class=\"dataframe\">\n  <thead>\n    <tr style=\"text-align: right;\">\n      <th></th>\n      <th>cruise_number__numero_de_croisiere</th>\n      <th>year__annee</th>\n      <th>month__mois</th>\n      <th>day_jour</th>\n      <th>start_hour__heure_de_depart</th>\n      <th>start_minute__minute_de_depart</th>\n      <th>latitude</th>\n      <th>longitude</th>\n      <th>gear__equipement</th>\n      <th>species__espece</th>\n      <th>french_name__nom_francais</th>\n      <th>english_name__nom_anglais</th>\n      <th>latin_name__nom_latin</th>\n      <th>weight_caught__poids_pris</th>\n      <th>number_caught__quantite_attrape</th>\n    </tr>\n  </thead>\n  <tbody>\n    <tr>\n      <th>0</th>\n      <td>24</td>\n      <td>2000</td>\n      <td>7</td>\n      <td>25</td>\n      <td>10.0</td>\n      <td>39.0</td>\n      <td>46.774167</td>\n      <td>-64.750917</td>\n      <td>No. 286 otter trawl with rockhopper</td>\n      <td>43</td>\n      <td>Plie rouge</td>\n      <td>Winter flounder</td>\n      <td>Pseudopleuronectes americanus</td>\n      <td>0.500</td>\n      <td>1.0</td>\n    </tr>\n    <tr>\n      <th>1</th>\n      <td>24</td>\n      <td>2000</td>\n      <td>7</td>\n      <td>25</td>\n      <td>10.0</td>\n      <td>39.0</td>\n      <td>46.774167</td>\n      <td>-64.750917</td>\n      <td>No. 286 otter trawl with rockhopper</td>\n      <td>122</td>\n      <td>Tanche-tautogue</td>\n      <td>Cunner</td>\n      <td>Tautogolabrus adspersus</td>\n      <td>0.800</td>\n      <td>2.0</td>\n    </tr>\n    <tr>\n      <th>2</th>\n      <td>24</td>\n      <td>2000</td>\n      <td>7</td>\n      <td>25</td>\n      <td>10.0</td>\n      <td>39.0</td>\n      <td>46.774167</td>\n      <td>-64.750917</td>\n      <td>No. 286 otter trawl with rockhopper</td>\n      <td>2550</td>\n      <td>Homard américain</td>\n      <td>American lobster</td>\n      <td>Homarus americanus</td>\n      <td>3.800</td>\n      <td>16.0</td>\n    </tr>\n    <tr>\n      <th>3</th>\n      <td>24</td>\n      <td>2000</td>\n      <td>7</td>\n      <td>25</td>\n      <td>10.0</td>\n      <td>39.0</td>\n      <td>46.774167</td>\n      <td>-64.750917</td>\n      <td>No. 286 otter trawl with rockhopper</td>\n      <td>4330</td>\n      <td>Moule non-spécifié</td>\n      <td>Mussel unidentified</td>\n      <td>Mytilidae (f.)</td>\n      <td>0.010</td>\n      <td>1.0</td>\n    </tr>\n    <tr>\n      <th>4</th>\n      <td>24</td>\n      <td>2000</td>\n      <td>7</td>\n      <td>25</td>\n      <td>10.0</td>\n      <td>39.0</td>\n      <td>46.774167</td>\n      <td>-64.750917</td>\n      <td>No. 286 otter trawl with rockhopper</td>\n      <td>6200</td>\n      <td>Ophiuroidea non-spécifié</td>\n      <td>Brittle star unidentified</td>\n      <td>Ophiuroidea (c.)</td>\n      <td>0.010</td>\n      <td>1.0</td>\n    </tr>\n    <tr>\n      <th>...</th>\n      <td>...</td>\n      <td>...</td>\n      <td>...</td>\n      <td>...</td>\n      <td>...</td>\n      <td>...</td>\n      <td>...</td>\n      <td>...</td>\n      <td>...</td>\n      <td>...</td>\n      <td>...</td>\n      <td>...</td>\n      <td>...</td>\n      <td>...</td>\n      <td>...</td>\n    </tr>\n    <tr>\n      <th>28529</th>\n      <td>152</td>\n      <td>2022</td>\n      <td>8</td>\n      <td>2</td>\n      <td>11.0</td>\n      <td>24.0</td>\n      <td>46.032833</td>\n      <td>-63.281083</td>\n      <td>Northumberland trawl</td>\n      <td>2214</td>\n      <td>Crevette - Dichelopandalus leptocerus</td>\n      <td>Bristled longbeak shrimp</td>\n      <td>Dichelopandalus leptocerus</td>\n      <td>0.005</td>\n      <td>0.0</td>\n    </tr>\n    <tr>\n      <th>28530</th>\n      <td>152</td>\n      <td>2022</td>\n      <td>8</td>\n      <td>2</td>\n      <td>11.0</td>\n      <td>24.0</td>\n      <td>46.032833</td>\n      <td>-63.281083</td>\n      <td>Northumberland trawl</td>\n      <td>2417</td>\n      <td>Crevette grise</td>\n      <td>Sevenspine bay shrimp</td>\n      <td>Crangon septemspinosa</td>\n      <td>0.024</td>\n      <td>0.0</td>\n    </tr>\n    <tr>\n      <th>28531</th>\n      <td>152</td>\n      <td>2022</td>\n      <td>8</td>\n      <td>2</td>\n      <td>11.0</td>\n      <td>24.0</td>\n      <td>46.032833</td>\n      <td>-63.281083</td>\n      <td>Northumberland trawl</td>\n      <td>2513</td>\n      <td>Crabe commun</td>\n      <td>Atlantic rock crab</td>\n      <td>Cancer irroratus</td>\n      <td>0.238</td>\n      <td>1.0</td>\n    </tr>\n    <tr>\n      <th>28532</th>\n      <td>152</td>\n      <td>2022</td>\n      <td>8</td>\n      <td>2</td>\n      <td>11.0</td>\n      <td>24.0</td>\n      <td>46.032833</td>\n      <td>-63.281083</td>\n      <td>Northumberland trawl</td>\n      <td>2550</td>\n      <td>Homard américain</td>\n      <td>American lobster</td>\n      <td>Homarus americanus</td>\n      <td>17.000</td>\n      <td>32.0</td>\n    </tr>\n    <tr>\n      <th>28533</th>\n      <td>152</td>\n      <td>2022</td>\n      <td>8</td>\n      <td>2</td>\n      <td>11.0</td>\n      <td>24.0</td>\n      <td>46.032833</td>\n      <td>-63.281083</td>\n      <td>Northumberland trawl</td>\n      <td>6118</td>\n      <td>Henricia non-spécifié</td>\n      <td>Blood star unidentified</td>\n      <td>Henricia sp.</td>\n      <td>0.001</td>\n      <td>0.0</td>\n    </tr>\n  </tbody>\n</table>\n<p>28534 rows × 15 columns</p>\n</div>"
     },
     "execution_count": 1,
     "metadata": {},
     "output_type": "execute_result"
    }
   ],
   "source": [
    "import os.path\n",
    "import shutil\n",
    "\n",
    "import numpy as np\n",
    "import pandas as pd\n",
    "\n",
    "df = pd.read_csv(\"data resources/sGSL-Northumberland-Survey-FGP.csv\", encoding=\"windows-1252\")\n",
    "df"
   ]
  },
  {
   "cell_type": "code",
   "execution_count": 2,
   "outputs": [
    {
     "data": {
      "text/plain": "0        2000-07-25 10:39\n1        2000-07-25 10:39\n2        2000-07-25 10:39\n3        2000-07-25 10:39\n4        2000-07-25 10:39\n               ...       \n28529    2022-08-02 11:24\n28530    2022-08-02 11:24\n28531    2022-08-02 11:24\n28532    2022-08-02 11:24\n28533    2022-08-02 11:24\nLength: 28534, dtype: object"
     },
     "execution_count": 2,
     "metadata": {},
     "output_type": "execute_result"
    }
   ],
   "source": [
    "# define the function to combine datetime from a row\n",
    "def combine_date(row):\n",
    "    year = str(row[\"year__annee\"]).zfill(4)\n",
    "    month = str(row[\"month__mois\"]).zfill(2)\n",
    "    day = str(row[\"day_jour\"]).zfill(2)\n",
    "    hour = row[\"start_hour__heure_de_depart\"]\n",
    "    minute = row[\"start_minute__minute_de_depart\"]\n",
    "    if (not isinstance(hour, str) and np.isnan(hour)) or (not isinstance(minute, str) and np.isnan(minute)):\n",
    "        return f\"{year}-{month}-{day}\"\n",
    "    else:\n",
    "        return f\"{year}-{month}-{day} {int(hour)}:{int(minute)}\"\n",
    "\n",
    "df.apply(combine_date, axis=1)"
   ],
   "metadata": {
    "collapsed": false
   }
  },
  {
   "cell_type": "code",
   "execution_count": 3,
   "outputs": [
    {
     "data": {
      "text/plain": "       year__annee   latitude  longitude            datetime\n0             2000  46.774167 -64.750917 2000-07-25 10:39:00\n6             2000  46.803500 -64.804250 2000-07-25 11:27:00\n12            2000  46.838167 -64.837333 2000-07-25 12:40:00\n13            2000  46.869500 -64.840333 2000-07-25 20:29:00\n23            2000  46.895083 -64.795417 2000-07-26 08:06:00\n...            ...        ...        ...                 ...\n28477         2022  45.971500 -62.970500 2022-08-01 09:34:00\n28496         2022  45.997417 -63.135250 2022-08-01 11:16:00\n28506         2022  46.097667 -63.514000 2022-08-01 16:20:00\n28521         2022  46.296667 -63.945167 2022-08-02 07:46:00\n28531         2022  46.032833 -63.281083 2022-08-02 11:24:00\n\n[3381 rows x 4 columns]",
      "text/html": "<div>\n<style scoped>\n    .dataframe tbody tr th:only-of-type {\n        vertical-align: middle;\n    }\n\n    .dataframe tbody tr th {\n        vertical-align: top;\n    }\n\n    .dataframe thead th {\n        text-align: right;\n    }\n</style>\n<table border=\"1\" class=\"dataframe\">\n  <thead>\n    <tr style=\"text-align: right;\">\n      <th></th>\n      <th>year__annee</th>\n      <th>latitude</th>\n      <th>longitude</th>\n      <th>datetime</th>\n    </tr>\n  </thead>\n  <tbody>\n    <tr>\n      <th>0</th>\n      <td>2000</td>\n      <td>46.774167</td>\n      <td>-64.750917</td>\n      <td>2000-07-25 10:39:00</td>\n    </tr>\n    <tr>\n      <th>6</th>\n      <td>2000</td>\n      <td>46.803500</td>\n      <td>-64.804250</td>\n      <td>2000-07-25 11:27:00</td>\n    </tr>\n    <tr>\n      <th>12</th>\n      <td>2000</td>\n      <td>46.838167</td>\n      <td>-64.837333</td>\n      <td>2000-07-25 12:40:00</td>\n    </tr>\n    <tr>\n      <th>13</th>\n      <td>2000</td>\n      <td>46.869500</td>\n      <td>-64.840333</td>\n      <td>2000-07-25 20:29:00</td>\n    </tr>\n    <tr>\n      <th>23</th>\n      <td>2000</td>\n      <td>46.895083</td>\n      <td>-64.795417</td>\n      <td>2000-07-26 08:06:00</td>\n    </tr>\n    <tr>\n      <th>...</th>\n      <td>...</td>\n      <td>...</td>\n      <td>...</td>\n      <td>...</td>\n    </tr>\n    <tr>\n      <th>28477</th>\n      <td>2022</td>\n      <td>45.971500</td>\n      <td>-62.970500</td>\n      <td>2022-08-01 09:34:00</td>\n    </tr>\n    <tr>\n      <th>28496</th>\n      <td>2022</td>\n      <td>45.997417</td>\n      <td>-63.135250</td>\n      <td>2022-08-01 11:16:00</td>\n    </tr>\n    <tr>\n      <th>28506</th>\n      <td>2022</td>\n      <td>46.097667</td>\n      <td>-63.514000</td>\n      <td>2022-08-01 16:20:00</td>\n    </tr>\n    <tr>\n      <th>28521</th>\n      <td>2022</td>\n      <td>46.296667</td>\n      <td>-63.945167</td>\n      <td>2022-08-02 07:46:00</td>\n    </tr>\n    <tr>\n      <th>28531</th>\n      <td>2022</td>\n      <td>46.032833</td>\n      <td>-63.281083</td>\n      <td>2022-08-02 11:24:00</td>\n    </tr>\n  </tbody>\n</table>\n<p>3381 rows × 4 columns</p>\n</div>"
     },
     "execution_count": 3,
     "metadata": {},
     "output_type": "execute_result"
    }
   ],
   "source": [
    "# add a new column that is a datetime\n",
    "df[\"datetime\"] = pd.to_datetime(df.apply(combine_date, axis=1))\n",
    "df_trunc = df.sort_values(\"datetime\").loc[:, [\"year__annee\", \"latitude\", \"longitude\", \"datetime\"]]\n",
    "df_trunc = df_trunc.drop_duplicates()\n",
    "df_trunc"
   ],
   "metadata": {
    "collapsed": false
   }
  },
  {
   "cell_type": "code",
   "execution_count": 4,
   "outputs": [],
   "source": [
    "from stock_assessment_surveys.utils.xy2line import xy2line\n",
    "xy2line(df_trunc)"
   ],
   "metadata": {
    "collapsed": false
   }
  }
 ],
 "metadata": {
  "kernelspec": {
   "display_name": "Python 3",
   "language": "python",
   "name": "python3"
  },
  "language_info": {
   "codemirror_mode": {
    "name": "ipython",
    "version": 2
   },
   "file_extension": ".py",
   "mimetype": "text/x-python",
   "name": "python",
   "nbconvert_exporter": "python",
   "pygments_lexer": "ipython2",
   "version": "2.7.6"
  }
 },
 "nbformat": 4,
 "nbformat_minor": 0
}
