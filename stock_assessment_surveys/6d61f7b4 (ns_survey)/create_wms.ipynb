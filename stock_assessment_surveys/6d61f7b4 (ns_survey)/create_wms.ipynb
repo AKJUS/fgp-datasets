{
 "cells": [
  {
   "cell_type": "code",
   "execution_count": 2,
   "metadata": {
    "collapsed": true,
    "ExecuteTime": {
     "end_time": "2024-03-13T11:33:20.890843500Z",
     "start_time": "2024-03-13T11:33:20.800483Z"
    }
   },
   "outputs": [
    {
     "data": {
      "text/plain": "       cruise_number__numero_de_croisiere  year__annee  month__mois  day_jour  \\\n0                                      24         2000            7        25   \n1                                      24         2000            7        25   \n2                                      24         2000            7        25   \n3                                      24         2000            7        25   \n4                                      24         2000            7        25   \n...                                   ...          ...          ...       ...   \n29950                                 303         2023            8         1   \n29951                                 303         2023            8         1   \n29952                                 303         2023            8         1   \n29953                                 303         2023            8         1   \n29954                                 303         2023            8         1   \n\n       start_hour__heure_de_depart  start_minute__minute_de_depart   latitude  \\\n0                             10.0                            39.0  46.774167   \n1                             10.0                            39.0  46.774167   \n2                             10.0                            39.0  46.774167   \n3                             10.0                            39.0  46.774167   \n4                             10.0                            39.0  46.774167   \n...                            ...                             ...        ...   \n29950                         14.0                            21.0  45.933583   \n29951                         14.0                            21.0  45.933583   \n29952                         14.0                            21.0  45.933583   \n29953                         14.0                            21.0  45.933583   \n29954                         14.0                            21.0  45.933583   \n\n       longitude                     gear__equipement  species__espece  \\\n0     -64.750917  No. 286 otter trawl with rockhopper               43   \n1     -64.750917  No. 286 otter trawl with rockhopper              122   \n2     -64.750917  No. 286 otter trawl with rockhopper             2550   \n3     -64.750917  No. 286 otter trawl with rockhopper             4330   \n4     -64.750917  No. 286 otter trawl with rockhopper             6200   \n...          ...                                  ...              ...   \n29950 -62.195333                 Northumberland trawl              623   \n29951 -62.195333                 Northumberland trawl             2212   \n29952 -62.195333                 Northumberland trawl             2411   \n29953 -62.195333                 Northumberland trawl             2550   \n29954 -62.195333                 Northumberland trawl             8500   \n\n      french_name__nom_francais  english_name__nom_anglais  \\\n0                    Plie rouge            Winter flounder   \n1               Tanche-tautogue                     Cunner   \n2              Homard américain           American lobster   \n3            Moule non-spécifié        Mussel unidentified   \n4      Ophiuroidea non-spécifié  Brittle star unidentified   \n...                         ...                        ...   \n29950         Lompénie tachetée              Daubed shanny   \n29951            Crevette ésope               Aesop shrimp   \n29952            Crevette verte               Arctic argid   \n29953          Homard américain           American lobster   \n29954       Méduse non-spécifié     Jellyfish unidentified   \n\n               latin_name__nom_latin  weight_caught__poids_pris  \\\n0      Pseudopleuronectes americanus                      0.500   \n1            Tautogolabrus adspersus                      0.800   \n2                 Homarus americanus                      3.800   \n3                     Mytilidae (f.)                      0.010   \n4                   Ophiuroidea (c.)                      0.010   \n...                              ...                        ...   \n29950          Leptoclinus maculatus                      0.003   \n29951              Pandalus montagui                      0.004   \n29952                  Argis dentata                      0.185   \n29953             Homarus americanus                      0.122   \n29954                 Scyphozoa (c.)                      0.042   \n\n       number_caught__quantite_attrape  \n0                                  1.0  \n1                                  2.0  \n2                                 16.0  \n3                                  1.0  \n4                                  1.0  \n...                                ...  \n29950                              1.0  \n29951                              NaN  \n29952                              NaN  \n29953                              1.0  \n29954                              NaN  \n\n[29955 rows x 15 columns]",
      "text/html": "<div>\n<style scoped>\n    .dataframe tbody tr th:only-of-type {\n        vertical-align: middle;\n    }\n\n    .dataframe tbody tr th {\n        vertical-align: top;\n    }\n\n    .dataframe thead th {\n        text-align: right;\n    }\n</style>\n<table border=\"1\" class=\"dataframe\">\n  <thead>\n    <tr style=\"text-align: right;\">\n      <th></th>\n      <th>cruise_number__numero_de_croisiere</th>\n      <th>year__annee</th>\n      <th>month__mois</th>\n      <th>day_jour</th>\n      <th>start_hour__heure_de_depart</th>\n      <th>start_minute__minute_de_depart</th>\n      <th>latitude</th>\n      <th>longitude</th>\n      <th>gear__equipement</th>\n      <th>species__espece</th>\n      <th>french_name__nom_francais</th>\n      <th>english_name__nom_anglais</th>\n      <th>latin_name__nom_latin</th>\n      <th>weight_caught__poids_pris</th>\n      <th>number_caught__quantite_attrape</th>\n    </tr>\n  </thead>\n  <tbody>\n    <tr>\n      <th>0</th>\n      <td>24</td>\n      <td>2000</td>\n      <td>7</td>\n      <td>25</td>\n      <td>10.0</td>\n      <td>39.0</td>\n      <td>46.774167</td>\n      <td>-64.750917</td>\n      <td>No. 286 otter trawl with rockhopper</td>\n      <td>43</td>\n      <td>Plie rouge</td>\n      <td>Winter flounder</td>\n      <td>Pseudopleuronectes americanus</td>\n      <td>0.500</td>\n      <td>1.0</td>\n    </tr>\n    <tr>\n      <th>1</th>\n      <td>24</td>\n      <td>2000</td>\n      <td>7</td>\n      <td>25</td>\n      <td>10.0</td>\n      <td>39.0</td>\n      <td>46.774167</td>\n      <td>-64.750917</td>\n      <td>No. 286 otter trawl with rockhopper</td>\n      <td>122</td>\n      <td>Tanche-tautogue</td>\n      <td>Cunner</td>\n      <td>Tautogolabrus adspersus</td>\n      <td>0.800</td>\n      <td>2.0</td>\n    </tr>\n    <tr>\n      <th>2</th>\n      <td>24</td>\n      <td>2000</td>\n      <td>7</td>\n      <td>25</td>\n      <td>10.0</td>\n      <td>39.0</td>\n      <td>46.774167</td>\n      <td>-64.750917</td>\n      <td>No. 286 otter trawl with rockhopper</td>\n      <td>2550</td>\n      <td>Homard américain</td>\n      <td>American lobster</td>\n      <td>Homarus americanus</td>\n      <td>3.800</td>\n      <td>16.0</td>\n    </tr>\n    <tr>\n      <th>3</th>\n      <td>24</td>\n      <td>2000</td>\n      <td>7</td>\n      <td>25</td>\n      <td>10.0</td>\n      <td>39.0</td>\n      <td>46.774167</td>\n      <td>-64.750917</td>\n      <td>No. 286 otter trawl with rockhopper</td>\n      <td>4330</td>\n      <td>Moule non-spécifié</td>\n      <td>Mussel unidentified</td>\n      <td>Mytilidae (f.)</td>\n      <td>0.010</td>\n      <td>1.0</td>\n    </tr>\n    <tr>\n      <th>4</th>\n      <td>24</td>\n      <td>2000</td>\n      <td>7</td>\n      <td>25</td>\n      <td>10.0</td>\n      <td>39.0</td>\n      <td>46.774167</td>\n      <td>-64.750917</td>\n      <td>No. 286 otter trawl with rockhopper</td>\n      <td>6200</td>\n      <td>Ophiuroidea non-spécifié</td>\n      <td>Brittle star unidentified</td>\n      <td>Ophiuroidea (c.)</td>\n      <td>0.010</td>\n      <td>1.0</td>\n    </tr>\n    <tr>\n      <th>...</th>\n      <td>...</td>\n      <td>...</td>\n      <td>...</td>\n      <td>...</td>\n      <td>...</td>\n      <td>...</td>\n      <td>...</td>\n      <td>...</td>\n      <td>...</td>\n      <td>...</td>\n      <td>...</td>\n      <td>...</td>\n      <td>...</td>\n      <td>...</td>\n      <td>...</td>\n    </tr>\n    <tr>\n      <th>29950</th>\n      <td>303</td>\n      <td>2023</td>\n      <td>8</td>\n      <td>1</td>\n      <td>14.0</td>\n      <td>21.0</td>\n      <td>45.933583</td>\n      <td>-62.195333</td>\n      <td>Northumberland trawl</td>\n      <td>623</td>\n      <td>Lompénie tachetée</td>\n      <td>Daubed shanny</td>\n      <td>Leptoclinus maculatus</td>\n      <td>0.003</td>\n      <td>1.0</td>\n    </tr>\n    <tr>\n      <th>29951</th>\n      <td>303</td>\n      <td>2023</td>\n      <td>8</td>\n      <td>1</td>\n      <td>14.0</td>\n      <td>21.0</td>\n      <td>45.933583</td>\n      <td>-62.195333</td>\n      <td>Northumberland trawl</td>\n      <td>2212</td>\n      <td>Crevette ésope</td>\n      <td>Aesop shrimp</td>\n      <td>Pandalus montagui</td>\n      <td>0.004</td>\n      <td>NaN</td>\n    </tr>\n    <tr>\n      <th>29952</th>\n      <td>303</td>\n      <td>2023</td>\n      <td>8</td>\n      <td>1</td>\n      <td>14.0</td>\n      <td>21.0</td>\n      <td>45.933583</td>\n      <td>-62.195333</td>\n      <td>Northumberland trawl</td>\n      <td>2411</td>\n      <td>Crevette verte</td>\n      <td>Arctic argid</td>\n      <td>Argis dentata</td>\n      <td>0.185</td>\n      <td>NaN</td>\n    </tr>\n    <tr>\n      <th>29953</th>\n      <td>303</td>\n      <td>2023</td>\n      <td>8</td>\n      <td>1</td>\n      <td>14.0</td>\n      <td>21.0</td>\n      <td>45.933583</td>\n      <td>-62.195333</td>\n      <td>Northumberland trawl</td>\n      <td>2550</td>\n      <td>Homard américain</td>\n      <td>American lobster</td>\n      <td>Homarus americanus</td>\n      <td>0.122</td>\n      <td>1.0</td>\n    </tr>\n    <tr>\n      <th>29954</th>\n      <td>303</td>\n      <td>2023</td>\n      <td>8</td>\n      <td>1</td>\n      <td>14.0</td>\n      <td>21.0</td>\n      <td>45.933583</td>\n      <td>-62.195333</td>\n      <td>Northumberland trawl</td>\n      <td>8500</td>\n      <td>Méduse non-spécifié</td>\n      <td>Jellyfish unidentified</td>\n      <td>Scyphozoa (c.)</td>\n      <td>0.042</td>\n      <td>NaN</td>\n    </tr>\n  </tbody>\n</table>\n<p>29955 rows × 15 columns</p>\n</div>"
     },
     "execution_count": 2,
     "metadata": {},
     "output_type": "execute_result"
    }
   ],
   "source": [
    "import os.path\n",
    "import shutil\n",
    "\n",
    "import numpy as np\n",
    "import pandas as pd\n",
    "\n",
    "df = pd.read_csv(\"data resources/sGSL-Northumberland-Survey-FGP.csv\", encoding=\"windows-1252\")\n",
    "df"
   ]
  },
  {
   "cell_type": "code",
   "execution_count": 3,
   "outputs": [
    {
     "data": {
      "text/plain": "0        2000-07-25 10:39\n1        2000-07-25 10:39\n2        2000-07-25 10:39\n3        2000-07-25 10:39\n4        2000-07-25 10:39\n               ...       \n29950    2023-08-01 14:21\n29951    2023-08-01 14:21\n29952    2023-08-01 14:21\n29953    2023-08-01 14:21\n29954    2023-08-01 14:21\nLength: 29955, dtype: object"
     },
     "execution_count": 3,
     "metadata": {},
     "output_type": "execute_result"
    }
   ],
   "source": [
    "# define the function to combine datetime from a row\n",
    "def combine_date(row):\n",
    "    year = str(row[\"year__annee\"]).zfill(4)\n",
    "    month = str(row[\"month__mois\"]).zfill(2)\n",
    "    day = str(row[\"day_jour\"]).zfill(2)\n",
    "    hour = row[\"start_hour__heure_de_depart\"]\n",
    "    minute = row[\"start_minute__minute_de_depart\"]\n",
    "    if (not isinstance(hour, str) and np.isnan(hour)) or (not isinstance(minute, str) and np.isnan(minute)):\n",
    "        return f\"{year}-{month}-{day}\"\n",
    "    else:\n",
    "        return f\"{year}-{month}-{day} {int(hour)}:{int(minute)}\"\n",
    "\n",
    "df.apply(combine_date, axis=1)"
   ],
   "metadata": {
    "collapsed": false,
    "ExecuteTime": {
     "end_time": "2024-03-13T11:33:39.096665800Z",
     "start_time": "2024-03-13T11:33:38.581229300Z"
    }
   }
  },
  {
   "cell_type": "code",
   "execution_count": 4,
   "outputs": [
    {
     "data": {
      "text/plain": "       year__annee   latitude  longitude            datetime\n0             2000  46.774167 -64.750917 2000-07-25 10:39:00\n6             2000  46.803500 -64.804250 2000-07-25 11:27:00\n11            2000  46.838167 -64.837333 2000-07-25 12:40:00\n19            2000  46.869500 -64.840333 2000-07-25 20:29:00\n20            2000  46.895083 -64.795417 2000-07-26 08:06:00\n...            ...        ...        ...                 ...\n29914         2023  46.245250 -62.138667 2023-07-31 15:37:00\n29925         2023  46.193500 -62.242167 2023-08-01 08:27:00\n29935         2023  46.072000 -62.427667 2023-08-01 10:21:00\n29944         2023  46.035250 -62.191083 2023-08-01 12:57:00\n29950         2023  45.933583 -62.195333 2023-08-01 14:21:00\n\n[3507 rows x 4 columns]",
      "text/html": "<div>\n<style scoped>\n    .dataframe tbody tr th:only-of-type {\n        vertical-align: middle;\n    }\n\n    .dataframe tbody tr th {\n        vertical-align: top;\n    }\n\n    .dataframe thead th {\n        text-align: right;\n    }\n</style>\n<table border=\"1\" class=\"dataframe\">\n  <thead>\n    <tr style=\"text-align: right;\">\n      <th></th>\n      <th>year__annee</th>\n      <th>latitude</th>\n      <th>longitude</th>\n      <th>datetime</th>\n    </tr>\n  </thead>\n  <tbody>\n    <tr>\n      <th>0</th>\n      <td>2000</td>\n      <td>46.774167</td>\n      <td>-64.750917</td>\n      <td>2000-07-25 10:39:00</td>\n    </tr>\n    <tr>\n      <th>6</th>\n      <td>2000</td>\n      <td>46.803500</td>\n      <td>-64.804250</td>\n      <td>2000-07-25 11:27:00</td>\n    </tr>\n    <tr>\n      <th>11</th>\n      <td>2000</td>\n      <td>46.838167</td>\n      <td>-64.837333</td>\n      <td>2000-07-25 12:40:00</td>\n    </tr>\n    <tr>\n      <th>19</th>\n      <td>2000</td>\n      <td>46.869500</td>\n      <td>-64.840333</td>\n      <td>2000-07-25 20:29:00</td>\n    </tr>\n    <tr>\n      <th>20</th>\n      <td>2000</td>\n      <td>46.895083</td>\n      <td>-64.795417</td>\n      <td>2000-07-26 08:06:00</td>\n    </tr>\n    <tr>\n      <th>...</th>\n      <td>...</td>\n      <td>...</td>\n      <td>...</td>\n      <td>...</td>\n    </tr>\n    <tr>\n      <th>29914</th>\n      <td>2023</td>\n      <td>46.245250</td>\n      <td>-62.138667</td>\n      <td>2023-07-31 15:37:00</td>\n    </tr>\n    <tr>\n      <th>29925</th>\n      <td>2023</td>\n      <td>46.193500</td>\n      <td>-62.242167</td>\n      <td>2023-08-01 08:27:00</td>\n    </tr>\n    <tr>\n      <th>29935</th>\n      <td>2023</td>\n      <td>46.072000</td>\n      <td>-62.427667</td>\n      <td>2023-08-01 10:21:00</td>\n    </tr>\n    <tr>\n      <th>29944</th>\n      <td>2023</td>\n      <td>46.035250</td>\n      <td>-62.191083</td>\n      <td>2023-08-01 12:57:00</td>\n    </tr>\n    <tr>\n      <th>29950</th>\n      <td>2023</td>\n      <td>45.933583</td>\n      <td>-62.195333</td>\n      <td>2023-08-01 14:21:00</td>\n    </tr>\n  </tbody>\n</table>\n<p>3507 rows × 4 columns</p>\n</div>"
     },
     "execution_count": 4,
     "metadata": {},
     "output_type": "execute_result"
    }
   ],
   "source": [
    "# add a new column that is a datetime\n",
    "df[\"datetime\"] = pd.to_datetime(df.apply(combine_date, axis=1))\n",
    "df_trunc = df.sort_values(\"datetime\").loc[:, [\"year__annee\", \"latitude\", \"longitude\", \"datetime\"]]\n",
    "df_trunc = df_trunc.drop_duplicates()\n",
    "df_trunc"
   ],
   "metadata": {
    "collapsed": false,
    "ExecuteTime": {
     "end_time": "2024-03-13T11:33:43.509777600Z",
     "start_time": "2024-03-13T11:33:43.012323Z"
    }
   }
  },
  {
   "cell_type": "code",
   "execution_count": 6,
   "outputs": [],
   "source": [
    "from stock_assessment_surveys.utils.xy2line import xy2line\n",
    "xy2line(df_trunc)"
   ],
   "metadata": {
    "collapsed": false,
    "ExecuteTime": {
     "end_time": "2024-03-13T11:33:55.178948300Z",
     "start_time": "2024-03-13T11:33:54.948028700Z"
    }
   }
  }
 ],
 "metadata": {
  "kernelspec": {
   "display_name": "Python 3",
   "language": "python",
   "name": "python3"
  },
  "language_info": {
   "codemirror_mode": {
    "name": "ipython",
    "version": 2
   },
   "file_extension": ".py",
   "mimetype": "text/x-python",
   "name": "python",
   "nbconvert_exporter": "python",
   "pygments_lexer": "ipython2",
   "version": "2.7.6"
  }
 },
 "nbformat": 4,
 "nbformat_minor": 0
}
