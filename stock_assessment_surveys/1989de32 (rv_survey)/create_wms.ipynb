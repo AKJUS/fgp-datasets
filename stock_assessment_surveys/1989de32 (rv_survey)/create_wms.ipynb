{
 "cells": [
  {
   "cell_type": "code",
   "execution_count": 6,
   "metadata": {
    "collapsed": true,
    "ExecuteTime": {
     "end_time": "2024-04-03T20:15:40.240469300Z",
     "start_time": "2024-04-03T20:15:39.998817400Z"
    }
   },
   "outputs": [
    {
     "data": {
      "text/plain": "Index(['year__année', 'month__mois', 'day__jour',\n       'start_hour__heure_de_départ', 'start_minute__minute_de_départ',\n       'latitude', 'longitude', 'gear__équipement', 'species__espèce',\n       'french_name__nom_français', 'english_name__nom_anglais',\n       'latin_name__nom_latin', 'weight_caught__poids_pris',\n       'number_caught__quantité_attrapé'],\n      dtype='object')"
     },
     "execution_count": 6,
     "metadata": {},
     "output_type": "execute_result"
    }
   ],
   "source": [
    "import os.path\n",
    "import shutil\n",
    "\n",
    "import numpy as np\n",
    "import pandas as pd\n",
    "\n",
    "df = pd.read_csv(\"data resources/sGSL-September-RV-FGP.csv\", encoding=\"utf-8\")\n",
    "df.columns\n"
   ]
  },
  {
   "cell_type": "code",
   "execution_count": 7,
   "outputs": [],
   "source": [
    "# define the function to combine datetime from a row\n",
    "def combine_date(row):\n",
    "    year = str(row[\"year__année\"]).zfill(4)\n",
    "    month = str(row[\"month__mois\"]).zfill(2)\n",
    "    day = str(row[\"day__jour\"]).zfill(2)\n",
    "    hour = row[\"start_hour__heure_de_départ\"]\n",
    "    minute = row[\"start_minute__minute_de_départ\"]\n",
    "    if (not isinstance(hour, str) and np.isnan(hour)) or (not isinstance(minute, str) and np.isnan(minute)):\n",
    "        return f\"{year}-{month}-{day}\"\n",
    "    else:\n",
    "        return f\"{year}-{month}-{day} {int(hour)}:{int(minute)}\""
   ],
   "metadata": {
    "collapsed": false,
    "ExecuteTime": {
     "end_time": "2024-04-03T20:15:40.274604400Z",
     "start_time": "2024-04-03T20:15:40.243439300Z"
    }
   }
  },
  {
   "cell_type": "code",
   "execution_count": 8,
   "outputs": [
    {
     "data": {
      "text/plain": "       year__année   latitude  longitude            datetime\n62351         2003  46.060750 -63.183000 2003-09-16 16:30:00\n62388         2003  45.927083 -62.486750 2003-09-16 21:37:00\n62410         2003  45.758250 -62.413333 2003-09-17 02:03:00\n62431         2003  45.811583 -62.210000 2003-09-17 04:31:00\n62459         2003  45.941167 -62.141833 2003-09-17 07:00:00\n...            ...        ...        ...                 ...\n64724         2003  48.277083 -62.128667 2003-09-28 05:06:00\n64752         2003  48.160333 -61.964000 2003-09-28 07:40:00\n64778         2003  47.984583 -61.895167 2003-09-28 10:49:00\n64804         2003  47.919083 -62.099917 2003-09-28 14:45:00\n64836         2003  47.659583 -61.909750 2003-09-28 18:15:00\n\n[83 rows x 4 columns]",
      "text/html": "<div>\n<style scoped>\n    .dataframe tbody tr th:only-of-type {\n        vertical-align: middle;\n    }\n\n    .dataframe tbody tr th {\n        vertical-align: top;\n    }\n\n    .dataframe thead th {\n        text-align: right;\n    }\n</style>\n<table border=\"1\" class=\"dataframe\">\n  <thead>\n    <tr style=\"text-align: right;\">\n      <th></th>\n      <th>year__année</th>\n      <th>latitude</th>\n      <th>longitude</th>\n      <th>datetime</th>\n    </tr>\n  </thead>\n  <tbody>\n    <tr>\n      <th>62351</th>\n      <td>2003</td>\n      <td>46.060750</td>\n      <td>-63.183000</td>\n      <td>2003-09-16 16:30:00</td>\n    </tr>\n    <tr>\n      <th>62388</th>\n      <td>2003</td>\n      <td>45.927083</td>\n      <td>-62.486750</td>\n      <td>2003-09-16 21:37:00</td>\n    </tr>\n    <tr>\n      <th>62410</th>\n      <td>2003</td>\n      <td>45.758250</td>\n      <td>-62.413333</td>\n      <td>2003-09-17 02:03:00</td>\n    </tr>\n    <tr>\n      <th>62431</th>\n      <td>2003</td>\n      <td>45.811583</td>\n      <td>-62.210000</td>\n      <td>2003-09-17 04:31:00</td>\n    </tr>\n    <tr>\n      <th>62459</th>\n      <td>2003</td>\n      <td>45.941167</td>\n      <td>-62.141833</td>\n      <td>2003-09-17 07:00:00</td>\n    </tr>\n    <tr>\n      <th>...</th>\n      <td>...</td>\n      <td>...</td>\n      <td>...</td>\n      <td>...</td>\n    </tr>\n    <tr>\n      <th>64724</th>\n      <td>2003</td>\n      <td>48.277083</td>\n      <td>-62.128667</td>\n      <td>2003-09-28 05:06:00</td>\n    </tr>\n    <tr>\n      <th>64752</th>\n      <td>2003</td>\n      <td>48.160333</td>\n      <td>-61.964000</td>\n      <td>2003-09-28 07:40:00</td>\n    </tr>\n    <tr>\n      <th>64778</th>\n      <td>2003</td>\n      <td>47.984583</td>\n      <td>-61.895167</td>\n      <td>2003-09-28 10:49:00</td>\n    </tr>\n    <tr>\n      <th>64804</th>\n      <td>2003</td>\n      <td>47.919083</td>\n      <td>-62.099917</td>\n      <td>2003-09-28 14:45:00</td>\n    </tr>\n    <tr>\n      <th>64836</th>\n      <td>2003</td>\n      <td>47.659583</td>\n      <td>-61.909750</td>\n      <td>2003-09-28 18:15:00</td>\n    </tr>\n  </tbody>\n</table>\n<p>83 rows × 4 columns</p>\n</div>"
     },
     "execution_count": 8,
     "metadata": {},
     "output_type": "execute_result"
    }
   ],
   "source": [
    "# add a new column that is a datetime\n",
    "df[\"datetime\"] = pd.to_datetime(df.apply(combine_date, axis=1))\n",
    "df_trunc = df.sort_values(\"datetime\").loc[:, [\"year__année\", \"latitude\", \"longitude\", \"datetime\"]]\n",
    "df_trunc = df_trunc.drop_duplicates()\n",
    "df_trunc[df_trunc[\"year__année\"]==2003]"
   ],
   "metadata": {
    "collapsed": false,
    "ExecuteTime": {
     "end_time": "2024-04-03T20:15:43.189458600Z",
     "start_time": "2024-04-03T20:15:40.258562100Z"
    }
   }
  },
  {
   "cell_type": "code",
   "execution_count": 9,
   "outputs": [],
   "source": [
    "from stock_assessment_surveys.utils.xy2line import xy2line\n",
    "xy2line(df_trunc)"
   ],
   "metadata": {
    "collapsed": false,
    "ExecuteTime": {
     "end_time": "2024-04-03T20:15:43.832601800Z",
     "start_time": "2024-04-03T20:15:43.190461800Z"
    }
   }
  }
 ],
 "metadata": {
  "kernelspec": {
   "display_name": "Python 3",
   "language": "python",
   "name": "python3"
  },
  "language_info": {
   "codemirror_mode": {
    "name": "ipython",
    "version": 2
   },
   "file_extension": ".py",
   "mimetype": "text/x-python",
   "name": "python",
   "nbconvert_exporter": "python",
   "pygments_lexer": "ipython2",
   "version": "2.7.6"
  }
 },
 "nbformat": 4,
 "nbformat_minor": 0
}
