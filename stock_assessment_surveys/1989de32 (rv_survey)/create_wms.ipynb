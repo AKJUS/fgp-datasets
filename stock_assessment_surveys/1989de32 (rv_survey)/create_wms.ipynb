{
 "cells": [
  {
   "cell_type": "code",
   "execution_count": 1,
   "metadata": {
    "collapsed": true
   },
   "outputs": [
    {
     "data": {
      "text/plain": "Index(['year__annee', 'month__mois', 'day__jour',\n       'start_hour__heure_de_depart', 'start_minute__minute_de_depart',\n       'latitude', 'longitude', 'gear__equipement', 'species__espece',\n       'french_name__nom_francais', 'english_name__nom_anglais',\n       'latin_name__nom_latin', 'weight_caught__poids_pris',\n       'number_caught__quantite__attrape'],\n      dtype='object')"
     },
     "execution_count": 1,
     "metadata": {},
     "output_type": "execute_result"
    }
   ],
   "source": [
    "import os.path\n",
    "import shutil\n",
    "\n",
    "import numpy as np\n",
    "import pandas as pd\n",
    "\n",
    "df = pd.read_csv(\"data resources/sGSL-September-RV-FGP.csv\", encoding=\"windows-1252\")\n",
    "df.columns"
   ]
  },
  {
   "cell_type": "code",
   "execution_count": 2,
   "outputs": [],
   "source": [
    "# define the function to combine datetime from a row\n",
    "def combine_date(row):\n",
    "    year = str(row[\"year__annee\"]).zfill(4)\n",
    "    month = str(row[\"month__mois\"]).zfill(2)\n",
    "    day = str(row[\"day__jour\"]).zfill(2)\n",
    "    hour = row[\"start_hour__heure_de_depart\"]\n",
    "    minute = row[\"start_minute__minute_de_depart\"]\n",
    "    if (not isinstance(hour, str) and np.isnan(hour)) or (not isinstance(minute, str) and np.isnan(minute)):\n",
    "        return f\"{year}-{month}-{day}\"\n",
    "    else:\n",
    "        return f\"{year}-{month}-{day} {int(hour)}:{int(minute)}\""
   ],
   "metadata": {
    "collapsed": false
   }
  },
  {
   "cell_type": "code",
   "execution_count": 3,
   "outputs": [
    {
     "data": {
      "text/plain": "        year__annee   latitude  longitude            datetime\n0              1970  47.983333 -64.716667 1970-09-15 12:25:00\n10             1970  48.050000 -64.600000 1970-09-15 13:55:00\n21             1970  48.216667 -64.466667 1970-09-15 15:55:00\n23             1970  48.150000 -64.350000 1970-09-15 17:45:00\n37             1970  48.316667 -64.283333 1970-09-16 08:25:00\n...             ...        ...        ...                 ...\n159138         2022  46.098000 -63.412250 2022-09-30 04:29:00\n159163         2022  45.953000 -63.240833 2022-09-30 08:03:00\n159179         2022  45.888083 -63.146750 2022-09-30 11:47:00\n159211         2022  45.909500 -62.769083 2022-09-30 15:04:00\n159233         2022  45.863500 -62.338417 2022-09-30 18:23:00\n\n[7045 rows x 4 columns]",
      "text/html": "<div>\n<style scoped>\n    .dataframe tbody tr th:only-of-type {\n        vertical-align: middle;\n    }\n\n    .dataframe tbody tr th {\n        vertical-align: top;\n    }\n\n    .dataframe thead th {\n        text-align: right;\n    }\n</style>\n<table border=\"1\" class=\"dataframe\">\n  <thead>\n    <tr style=\"text-align: right;\">\n      <th></th>\n      <th>year__annee</th>\n      <th>latitude</th>\n      <th>longitude</th>\n      <th>datetime</th>\n    </tr>\n  </thead>\n  <tbody>\n    <tr>\n      <th>0</th>\n      <td>1970</td>\n      <td>47.983333</td>\n      <td>-64.716667</td>\n      <td>1970-09-15 12:25:00</td>\n    </tr>\n    <tr>\n      <th>10</th>\n      <td>1970</td>\n      <td>48.050000</td>\n      <td>-64.600000</td>\n      <td>1970-09-15 13:55:00</td>\n    </tr>\n    <tr>\n      <th>21</th>\n      <td>1970</td>\n      <td>48.216667</td>\n      <td>-64.466667</td>\n      <td>1970-09-15 15:55:00</td>\n    </tr>\n    <tr>\n      <th>23</th>\n      <td>1970</td>\n      <td>48.150000</td>\n      <td>-64.350000</td>\n      <td>1970-09-15 17:45:00</td>\n    </tr>\n    <tr>\n      <th>37</th>\n      <td>1970</td>\n      <td>48.316667</td>\n      <td>-64.283333</td>\n      <td>1970-09-16 08:25:00</td>\n    </tr>\n    <tr>\n      <th>...</th>\n      <td>...</td>\n      <td>...</td>\n      <td>...</td>\n      <td>...</td>\n    </tr>\n    <tr>\n      <th>159138</th>\n      <td>2022</td>\n      <td>46.098000</td>\n      <td>-63.412250</td>\n      <td>2022-09-30 04:29:00</td>\n    </tr>\n    <tr>\n      <th>159163</th>\n      <td>2022</td>\n      <td>45.953000</td>\n      <td>-63.240833</td>\n      <td>2022-09-30 08:03:00</td>\n    </tr>\n    <tr>\n      <th>159179</th>\n      <td>2022</td>\n      <td>45.888083</td>\n      <td>-63.146750</td>\n      <td>2022-09-30 11:47:00</td>\n    </tr>\n    <tr>\n      <th>159211</th>\n      <td>2022</td>\n      <td>45.909500</td>\n      <td>-62.769083</td>\n      <td>2022-09-30 15:04:00</td>\n    </tr>\n    <tr>\n      <th>159233</th>\n      <td>2022</td>\n      <td>45.863500</td>\n      <td>-62.338417</td>\n      <td>2022-09-30 18:23:00</td>\n    </tr>\n  </tbody>\n</table>\n<p>7045 rows × 4 columns</p>\n</div>"
     },
     "execution_count": 3,
     "metadata": {},
     "output_type": "execute_result"
    }
   ],
   "source": [
    "# add a new column that is a datetime\n",
    "df[\"datetime\"] = pd.to_datetime(df.apply(combine_date, axis=1))\n",
    "df_trunc = df.sort_values(\"datetime\").loc[:, [\"year__annee\", \"latitude\", \"longitude\", \"datetime\"]]\n",
    "df_trunc = df_trunc.drop_duplicates()\n",
    "df_trunc"
   ],
   "metadata": {
    "collapsed": false
   }
  },
  {
   "cell_type": "code",
   "execution_count": 4,
   "outputs": [],
   "source": [
    "from stock_assessment_surveys.utils.xy2line import xy2line\n",
    "xy2line(df_trunc)"
   ],
   "metadata": {
    "collapsed": false
   }
  }
 ],
 "metadata": {
  "kernelspec": {
   "display_name": "Python 3",
   "language": "python",
   "name": "python3"
  },
  "language_info": {
   "codemirror_mode": {
    "name": "ipython",
    "version": 2
   },
   "file_extension": ".py",
   "mimetype": "text/x-python",
   "name": "python",
   "nbconvert_exporter": "python",
   "pygments_lexer": "ipython2",
   "version": "2.7.6"
  }
 },
 "nbformat": 4,
 "nbformat_minor": 0
}
