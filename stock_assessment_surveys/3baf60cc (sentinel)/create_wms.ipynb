{
 "cells": [
  {
   "cell_type": "code",
   "execution_count": 5,
   "metadata": {
    "collapsed": true
   },
   "outputs": [
    {
     "data": {
      "text/plain": "Index(['cruise_number__numero_de_criosiere', 'year__annee', 'month__mois',\n       'day__jour', 'start_hour__heure_de_depart',\n       'start_minute__minute_de_depart', 'latitude', 'longitude',\n       'gear__equipement', 'species__espece', 'french_name__nom_francais',\n       'english_name__nom_anglais', 'latin_name__nom_latin',\n       'weight_caught__poids_pris', 'number_caught__quantite__attrape'],\n      dtype='object')"
     },
     "execution_count": 5,
     "metadata": {},
     "output_type": "execute_result"
    }
   ],
   "source": [
    "import os.path\n",
    "import shutil\n",
    "\n",
    "import numpy as np\n",
    "import pandas as pd\n",
    "\n",
    "df = pd.read_csv(\"data resources/sGSL-Sentinel-Survey-FGP.csv\", encoding=\"windows-1252\")\n",
    "df.columns"
   ]
  },
  {
   "cell_type": "code",
   "execution_count": 6,
   "outputs": [],
   "source": [
    "# define the function to combine datetime from a row\n",
    "def combine_date(row):\n",
    "    year = str(row[\"year__annee\"]).zfill(4)\n",
    "    month = str(row[\"month__mois\"]).zfill(2)\n",
    "    day = str(row[\"day__jour\"]).zfill(2)\n",
    "    hour = row[\"start_hour__heure_de_depart\"]\n",
    "    minute = row[\"start_minute__minute_de_depart\"]\n",
    "    if (not isinstance(hour, str) and np.isnan(hour)) or (not isinstance(minute, str) and np.isnan(minute)):\n",
    "        return f\"{year}-{month}-{day}\"\n",
    "    else:\n",
    "        return f\"{year}-{month}-{day} {int(hour)}:{int(minute)}\""
   ],
   "metadata": {
    "collapsed": false
   }
  },
  {
   "cell_type": "code",
   "execution_count": 7,
   "outputs": [
    {
     "data": {
      "text/plain": "       year__annee   latitude  longitude            datetime\n0             2003  47.850667 -65.284500 2003-08-04 18:30:00\n4             2003  47.844833 -65.488833 2003-08-04 20:03:00\n16            2003  47.974583 -65.718917 2003-08-04 22:06:00\n17            2003  47.981500 -65.075000 2003-08-05 09:55:00\n27            2003  48.145583 -64.554083 2003-08-05 13:25:00\n...            ...        ...        ...                 ...\n23830         2019  48.228667 -62.932917 2019-08-18 16:57:00\n23842         2019  48.522167 -63.430917 2019-08-18 20:15:00\n23855         2019  48.858000 -63.738417 2019-08-18 21:20:00\n23869         2019  48.859583 -63.931833 2019-08-19 09:12:00\n23881         2019  48.347417 -64.422333 2019-08-19 14:02:00\n\n[3059 rows x 4 columns]",
      "text/html": "<div>\n<style scoped>\n    .dataframe tbody tr th:only-of-type {\n        vertical-align: middle;\n    }\n\n    .dataframe tbody tr th {\n        vertical-align: top;\n    }\n\n    .dataframe thead th {\n        text-align: right;\n    }\n</style>\n<table border=\"1\" class=\"dataframe\">\n  <thead>\n    <tr style=\"text-align: right;\">\n      <th></th>\n      <th>year__annee</th>\n      <th>latitude</th>\n      <th>longitude</th>\n      <th>datetime</th>\n    </tr>\n  </thead>\n  <tbody>\n    <tr>\n      <th>0</th>\n      <td>2003</td>\n      <td>47.850667</td>\n      <td>-65.284500</td>\n      <td>2003-08-04 18:30:00</td>\n    </tr>\n    <tr>\n      <th>4</th>\n      <td>2003</td>\n      <td>47.844833</td>\n      <td>-65.488833</td>\n      <td>2003-08-04 20:03:00</td>\n    </tr>\n    <tr>\n      <th>16</th>\n      <td>2003</td>\n      <td>47.974583</td>\n      <td>-65.718917</td>\n      <td>2003-08-04 22:06:00</td>\n    </tr>\n    <tr>\n      <th>17</th>\n      <td>2003</td>\n      <td>47.981500</td>\n      <td>-65.075000</td>\n      <td>2003-08-05 09:55:00</td>\n    </tr>\n    <tr>\n      <th>27</th>\n      <td>2003</td>\n      <td>48.145583</td>\n      <td>-64.554083</td>\n      <td>2003-08-05 13:25:00</td>\n    </tr>\n    <tr>\n      <th>...</th>\n      <td>...</td>\n      <td>...</td>\n      <td>...</td>\n      <td>...</td>\n    </tr>\n    <tr>\n      <th>23830</th>\n      <td>2019</td>\n      <td>48.228667</td>\n      <td>-62.932917</td>\n      <td>2019-08-18 16:57:00</td>\n    </tr>\n    <tr>\n      <th>23842</th>\n      <td>2019</td>\n      <td>48.522167</td>\n      <td>-63.430917</td>\n      <td>2019-08-18 20:15:00</td>\n    </tr>\n    <tr>\n      <th>23855</th>\n      <td>2019</td>\n      <td>48.858000</td>\n      <td>-63.738417</td>\n      <td>2019-08-18 21:20:00</td>\n    </tr>\n    <tr>\n      <th>23869</th>\n      <td>2019</td>\n      <td>48.859583</td>\n      <td>-63.931833</td>\n      <td>2019-08-19 09:12:00</td>\n    </tr>\n    <tr>\n      <th>23881</th>\n      <td>2019</td>\n      <td>48.347417</td>\n      <td>-64.422333</td>\n      <td>2019-08-19 14:02:00</td>\n    </tr>\n  </tbody>\n</table>\n<p>3059 rows × 4 columns</p>\n</div>"
     },
     "execution_count": 7,
     "metadata": {},
     "output_type": "execute_result"
    }
   ],
   "source": [
    "# add a new column that is a datetime\n",
    "df[\"datetime\"] = pd.to_datetime(df.apply(combine_date, axis=1))\n",
    "df_trunc = df.sort_values(\"datetime\").loc[:, [\"year__annee\", \"latitude\", \"longitude\", \"datetime\"]]\n",
    "df_trunc = df_trunc.drop_duplicates()\n",
    "df_trunc"
   ],
   "metadata": {
    "collapsed": false
   }
  },
  {
   "cell_type": "code",
   "execution_count": 8,
   "outputs": [],
   "source": [
    "from stock_assessment_surveys.utils.xy2line import xy2line\n",
    "xy2line(df_trunc)"
   ],
   "metadata": {
    "collapsed": false
   }
  }
 ],
 "metadata": {
  "kernelspec": {
   "display_name": "Python 3",
   "language": "python",
   "name": "python3"
  },
  "language_info": {
   "codemirror_mode": {
    "name": "ipython",
    "version": 2
   },
   "file_extension": ".py",
   "mimetype": "text/x-python",
   "name": "python",
   "nbconvert_exporter": "python",
   "pygments_lexer": "ipython2",
   "version": "2.7.6"
  }
 },
 "nbformat": 4,
 "nbformat_minor": 0
}
