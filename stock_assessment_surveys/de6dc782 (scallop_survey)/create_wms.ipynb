{
 "cells": [
  {
   "cell_type": "code",
   "execution_count": 30,
   "metadata": {
    "collapsed": true
   },
   "outputs": [
    {
     "data": {
      "text/plain": "Index(['year__annee', 'month__mois', 'day__jour',\n       'start_hour__heure_de_depart', 'start_minute__minute_de_depart',\n       'latitude', 'longitude', 'gear__equipement', 'species__espece',\n       'french_name__nom_francais', 'english_name__nom_anglais',\n       'latin_name__nom_latin', 'weight_caught__poids_pris',\n       'number_caught__quantite__attrape'],\n      dtype='object')"
     },
     "execution_count": 30,
     "metadata": {},
     "output_type": "execute_result"
    }
   ],
   "source": [
    "import os.path\n",
    "import shutil\n",
    "\n",
    "import numpy as np\n",
    "import pandas as pd\n",
    "\n",
    "df = pd.read_csv(\"data resources/sGSL-scallop-RV-FGP.csv\", encoding=\"windows-1252\")\n",
    "df.columns"
   ]
  },
  {
   "cell_type": "code",
   "execution_count": 31,
   "outputs": [],
   "source": [
    "# define the function to combine datetime from a row\n",
    "def combine_date(row):\n",
    "    year = str(row[\"year__annee\"]).zfill(4)\n",
    "    month = str(row[\"month__mois\"]).zfill(2)\n",
    "    day = str(row[\"day__jour\"]).zfill(2)\n",
    "    hour = row[\"start_hour__heure_de_depart\"]\n",
    "    minute = row[\"start_minute__minute_de_depart\"]\n",
    "    if (not isinstance(hour, str) and np.isnan(hour)) or (not isinstance(minute, str) and np.isnan(minute)):\n",
    "        return f\"{year}-{month}-{day}\"\n",
    "    else:\n",
    "        return f\"{year}-{month}-{day} {int(hour)}:{int(minute)}\""
   ],
   "metadata": {
    "collapsed": false
   }
  },
  {
   "cell_type": "code",
   "execution_count": 32,
   "outputs": [
    {
     "data": {
      "text/plain": "      year__annee   latitude  longitude            datetime\n0            2012  46.249083 -64.331250 2012-06-27 13:57:00\n21           2012  46.335917 -64.325500 2012-06-28 07:59:00\n36           2012  46.324417 -64.128167 2012-06-28 09:28:00\n47           2012  46.308333 -64.108667 2012-06-28 10:14:00\n55           2012  46.280917 -64.099417 2012-06-28 11:15:00\n...           ...        ...        ...                 ...\n7021         2020  46.563167 -64.511583 2020-10-23 10:23:00\n7024         2020  46.548583 -64.469500 2020-10-23 10:49:00\n7030         2020  46.534667 -64.415917 2020-10-23 11:21:00\n7039         2020  46.519833 -64.406917 2020-10-23 11:41:00\n7048         2020  46.518417 -64.366500 2020-10-23 13:09:00\n\n[685 rows x 4 columns]",
      "text/html": "<div>\n<style scoped>\n    .dataframe tbody tr th:only-of-type {\n        vertical-align: middle;\n    }\n\n    .dataframe tbody tr th {\n        vertical-align: top;\n    }\n\n    .dataframe thead th {\n        text-align: right;\n    }\n</style>\n<table border=\"1\" class=\"dataframe\">\n  <thead>\n    <tr style=\"text-align: right;\">\n      <th></th>\n      <th>year__annee</th>\n      <th>latitude</th>\n      <th>longitude</th>\n      <th>datetime</th>\n    </tr>\n  </thead>\n  <tbody>\n    <tr>\n      <th>0</th>\n      <td>2012</td>\n      <td>46.249083</td>\n      <td>-64.331250</td>\n      <td>2012-06-27 13:57:00</td>\n    </tr>\n    <tr>\n      <th>21</th>\n      <td>2012</td>\n      <td>46.335917</td>\n      <td>-64.325500</td>\n      <td>2012-06-28 07:59:00</td>\n    </tr>\n    <tr>\n      <th>36</th>\n      <td>2012</td>\n      <td>46.324417</td>\n      <td>-64.128167</td>\n      <td>2012-06-28 09:28:00</td>\n    </tr>\n    <tr>\n      <th>47</th>\n      <td>2012</td>\n      <td>46.308333</td>\n      <td>-64.108667</td>\n      <td>2012-06-28 10:14:00</td>\n    </tr>\n    <tr>\n      <th>55</th>\n      <td>2012</td>\n      <td>46.280917</td>\n      <td>-64.099417</td>\n      <td>2012-06-28 11:15:00</td>\n    </tr>\n    <tr>\n      <th>...</th>\n      <td>...</td>\n      <td>...</td>\n      <td>...</td>\n      <td>...</td>\n    </tr>\n    <tr>\n      <th>7021</th>\n      <td>2020</td>\n      <td>46.563167</td>\n      <td>-64.511583</td>\n      <td>2020-10-23 10:23:00</td>\n    </tr>\n    <tr>\n      <th>7024</th>\n      <td>2020</td>\n      <td>46.548583</td>\n      <td>-64.469500</td>\n      <td>2020-10-23 10:49:00</td>\n    </tr>\n    <tr>\n      <th>7030</th>\n      <td>2020</td>\n      <td>46.534667</td>\n      <td>-64.415917</td>\n      <td>2020-10-23 11:21:00</td>\n    </tr>\n    <tr>\n      <th>7039</th>\n      <td>2020</td>\n      <td>46.519833</td>\n      <td>-64.406917</td>\n      <td>2020-10-23 11:41:00</td>\n    </tr>\n    <tr>\n      <th>7048</th>\n      <td>2020</td>\n      <td>46.518417</td>\n      <td>-64.366500</td>\n      <td>2020-10-23 13:09:00</td>\n    </tr>\n  </tbody>\n</table>\n<p>685 rows × 4 columns</p>\n</div>"
     },
     "execution_count": 32,
     "metadata": {},
     "output_type": "execute_result"
    }
   ],
   "source": [
    "# add a new column that is a datetime\n",
    "df[\"datetime\"] = pd.to_datetime(df.apply(combine_date, axis=1))\n",
    "df_trunc = df.sort_values(\"datetime\").loc[:, [\"year__annee\", \"latitude\", \"longitude\", \"datetime\"]]\n",
    "df_trunc = df_trunc.drop_duplicates()\n",
    "df_trunc"
   ],
   "metadata": {
    "collapsed": false
   }
  },
  {
   "cell_type": "code",
   "execution_count": 33,
   "outputs": [
    {
     "data": {
      "text/plain": "      year__annee   latitude  longitude            datetime\n6288         2020  46.542167 -34.375167 2020-10-15 10:03:00\n6472         2020  46.204000 -35.154917 2020-10-17 08:12:00\n6966         2020  55.612750 -64.560833 2020-10-22 15:47:00",
      "text/html": "<div>\n<style scoped>\n    .dataframe tbody tr th:only-of-type {\n        vertical-align: middle;\n    }\n\n    .dataframe tbody tr th {\n        vertical-align: top;\n    }\n\n    .dataframe thead th {\n        text-align: right;\n    }\n</style>\n<table border=\"1\" class=\"dataframe\">\n  <thead>\n    <tr style=\"text-align: right;\">\n      <th></th>\n      <th>year__annee</th>\n      <th>latitude</th>\n      <th>longitude</th>\n      <th>datetime</th>\n    </tr>\n  </thead>\n  <tbody>\n    <tr>\n      <th>6288</th>\n      <td>2020</td>\n      <td>46.542167</td>\n      <td>-34.375167</td>\n      <td>2020-10-15 10:03:00</td>\n    </tr>\n    <tr>\n      <th>6472</th>\n      <td>2020</td>\n      <td>46.204000</td>\n      <td>-35.154917</td>\n      <td>2020-10-17 08:12:00</td>\n    </tr>\n    <tr>\n      <th>6966</th>\n      <td>2020</td>\n      <td>55.612750</td>\n      <td>-64.560833</td>\n      <td>2020-10-22 15:47:00</td>\n    </tr>\n  </tbody>\n</table>\n</div>"
     },
     "execution_count": 33,
     "metadata": {},
     "output_type": "execute_result"
    }
   ],
   "source": [
    "# Seems like there are some bad points. Let's have a closer look\n",
    "mask = (df_trunc[\"latitude\"] > 50) | (df_trunc[\"longitude\"] > -60)\n",
    "df_trunc[mask]\n"
   ],
   "metadata": {
    "collapsed": false
   }
  },
  {
   "cell_type": "code",
   "execution_count": 34,
   "outputs": [
    {
     "data": {
      "text/plain": "      year__annee   latitude  longitude            datetime\n0            2012  46.249083 -64.331250 2012-06-27 13:57:00\n21           2012  46.335917 -64.325500 2012-06-28 07:59:00\n36           2012  46.324417 -64.128167 2012-06-28 09:28:00\n47           2012  46.308333 -64.108667 2012-06-28 10:14:00\n55           2012  46.280917 -64.099417 2012-06-28 11:15:00\n...           ...        ...        ...                 ...\n7021         2020  46.563167 -64.511583 2020-10-23 10:23:00\n7024         2020  46.548583 -64.469500 2020-10-23 10:49:00\n7030         2020  46.534667 -64.415917 2020-10-23 11:21:00\n7039         2020  46.519833 -64.406917 2020-10-23 11:41:00\n7048         2020  46.518417 -64.366500 2020-10-23 13:09:00\n\n[682 rows x 4 columns]",
      "text/html": "<div>\n<style scoped>\n    .dataframe tbody tr th:only-of-type {\n        vertical-align: middle;\n    }\n\n    .dataframe tbody tr th {\n        vertical-align: top;\n    }\n\n    .dataframe thead th {\n        text-align: right;\n    }\n</style>\n<table border=\"1\" class=\"dataframe\">\n  <thead>\n    <tr style=\"text-align: right;\">\n      <th></th>\n      <th>year__annee</th>\n      <th>latitude</th>\n      <th>longitude</th>\n      <th>datetime</th>\n    </tr>\n  </thead>\n  <tbody>\n    <tr>\n      <th>0</th>\n      <td>2012</td>\n      <td>46.249083</td>\n      <td>-64.331250</td>\n      <td>2012-06-27 13:57:00</td>\n    </tr>\n    <tr>\n      <th>21</th>\n      <td>2012</td>\n      <td>46.335917</td>\n      <td>-64.325500</td>\n      <td>2012-06-28 07:59:00</td>\n    </tr>\n    <tr>\n      <th>36</th>\n      <td>2012</td>\n      <td>46.324417</td>\n      <td>-64.128167</td>\n      <td>2012-06-28 09:28:00</td>\n    </tr>\n    <tr>\n      <th>47</th>\n      <td>2012</td>\n      <td>46.308333</td>\n      <td>-64.108667</td>\n      <td>2012-06-28 10:14:00</td>\n    </tr>\n    <tr>\n      <th>55</th>\n      <td>2012</td>\n      <td>46.280917</td>\n      <td>-64.099417</td>\n      <td>2012-06-28 11:15:00</td>\n    </tr>\n    <tr>\n      <th>...</th>\n      <td>...</td>\n      <td>...</td>\n      <td>...</td>\n      <td>...</td>\n    </tr>\n    <tr>\n      <th>7021</th>\n      <td>2020</td>\n      <td>46.563167</td>\n      <td>-64.511583</td>\n      <td>2020-10-23 10:23:00</td>\n    </tr>\n    <tr>\n      <th>7024</th>\n      <td>2020</td>\n      <td>46.548583</td>\n      <td>-64.469500</td>\n      <td>2020-10-23 10:49:00</td>\n    </tr>\n    <tr>\n      <th>7030</th>\n      <td>2020</td>\n      <td>46.534667</td>\n      <td>-64.415917</td>\n      <td>2020-10-23 11:21:00</td>\n    </tr>\n    <tr>\n      <th>7039</th>\n      <td>2020</td>\n      <td>46.519833</td>\n      <td>-64.406917</td>\n      <td>2020-10-23 11:41:00</td>\n    </tr>\n    <tr>\n      <th>7048</th>\n      <td>2020</td>\n      <td>46.518417</td>\n      <td>-64.366500</td>\n      <td>2020-10-23 13:09:00</td>\n    </tr>\n  </tbody>\n</table>\n<p>682 rows × 4 columns</p>\n</div>"
     },
     "execution_count": 34,
     "metadata": {},
     "output_type": "execute_result"
    }
   ],
   "source": [
    "# let's remove those rows\n",
    "df_trunc = df_trunc[~mask]\n",
    "df_trunc"
   ],
   "metadata": {
    "collapsed": false
   }
  },
  {
   "cell_type": "code",
   "execution_count": 35,
   "outputs": [],
   "source": [
    "from stock_assessment_surveys.utils.xy2line import xy2line\n",
    "xy2line(df_trunc)"
   ],
   "metadata": {
    "collapsed": false
   }
  }
 ],
 "metadata": {
  "kernelspec": {
   "display_name": "Python 3",
   "language": "python",
   "name": "python3"
  },
  "language_info": {
   "codemirror_mode": {
    "name": "ipython",
    "version": 2
   },
   "file_extension": ".py",
   "mimetype": "text/x-python",
   "name": "python",
   "nbconvert_exporter": "python",
   "pygments_lexer": "ipython2",
   "version": "2.7.6"
  }
 },
 "nbformat": 4,
 "nbformat_minor": 0
}
