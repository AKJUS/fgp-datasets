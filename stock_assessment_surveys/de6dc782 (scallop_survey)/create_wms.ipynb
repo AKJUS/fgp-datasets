{
 "cells": [
  {
   "cell_type": "code",
   "execution_count": 1,
   "metadata": {
    "collapsed": true,
    "ExecuteTime": {
     "end_time": "2024-03-13T11:40:41.332824300Z",
     "start_time": "2024-03-13T11:40:40.751975800Z"
    }
   },
   "outputs": [
    {
     "data": {
      "text/plain": "Index(['year__annee', 'month__mois', 'day__jour',\n       'start_hour__heure_de_depart', 'start_minute__minute_de_depart',\n       'latitude', 'longitude', 'gear__equipement', 'species__espece',\n       'french_name__nom_francais', 'english_name__nom_anglais',\n       'latin_name__nom_latin', 'weight_caught__poids_pris',\n       'number_caught__quantite_attrape'],\n      dtype='object')"
     },
     "execution_count": 1,
     "metadata": {},
     "output_type": "execute_result"
    }
   ],
   "source": [
    "import os.path\n",
    "import shutil\n",
    "\n",
    "import numpy as np\n",
    "import pandas as pd\n",
    "\n",
    "df = pd.read_csv(\"data resources/sGSL-scallop-RV-FGP.csv\", encoding=\"windows-1252\")\n",
    "df.columns"
   ]
  },
  {
   "cell_type": "code",
   "execution_count": 2,
   "outputs": [],
   "source": [
    "# define the function to combine datetime from a row\n",
    "def combine_date(row):\n",
    "    year = str(row[\"year__annee\"]).zfill(4)\n",
    "    month = str(row[\"month__mois\"]).zfill(2)\n",
    "    day = str(row[\"day__jour\"]).zfill(2)\n",
    "    hour = row[\"start_hour__heure_de_depart\"]\n",
    "    minute = row[\"start_minute__minute_de_depart\"]\n",
    "    if (not isinstance(hour, str) and np.isnan(hour)) or (not isinstance(minute, str) and np.isnan(minute)):\n",
    "        return f\"{year}-{month}-{day}\"\n",
    "    else:\n",
    "        return f\"{year}-{month}-{day} {int(hour)}:{int(minute)}\""
   ],
   "metadata": {
    "collapsed": false,
    "ExecuteTime": {
     "end_time": "2024-03-13T11:40:41.367350300Z",
     "start_time": "2024-03-13T11:40:41.338213300Z"
    }
   }
  },
  {
   "cell_type": "code",
   "execution_count": 3,
   "outputs": [
    {
     "data": {
      "text/plain": "       year__annee   latitude  longitude            datetime\n0             2012  46.249083 -64.331250 2012-06-27 13:57:00\n21            2012  46.335917 -64.325500 2012-06-28 07:59:00\n36            2012  46.324417 -64.128167 2012-06-28 09:28:00\n47            2012  46.308333 -64.108667 2012-06-28 10:14:00\n55            2012  46.280917 -64.099417 2012-06-28 11:15:00\n...            ...        ...        ...                 ...\n14450         2023  46.561250 -64.405667 2023-10-24 14:44:00\n14458         2023  46.574083 -64.375500 2023-10-24 15:05:00\n14467         2023  46.595083 -64.499583 2023-10-24 15:38:00\n14479         2023  46.610083 -64.488083 2023-10-24 15:57:00\n14487         2023  46.611250 -64.454583 2023-10-24 16:26:00\n\n[1374 rows x 4 columns]",
      "text/html": "<div>\n<style scoped>\n    .dataframe tbody tr th:only-of-type {\n        vertical-align: middle;\n    }\n\n    .dataframe tbody tr th {\n        vertical-align: top;\n    }\n\n    .dataframe thead th {\n        text-align: right;\n    }\n</style>\n<table border=\"1\" class=\"dataframe\">\n  <thead>\n    <tr style=\"text-align: right;\">\n      <th></th>\n      <th>year__annee</th>\n      <th>latitude</th>\n      <th>longitude</th>\n      <th>datetime</th>\n    </tr>\n  </thead>\n  <tbody>\n    <tr>\n      <th>0</th>\n      <td>2012</td>\n      <td>46.249083</td>\n      <td>-64.331250</td>\n      <td>2012-06-27 13:57:00</td>\n    </tr>\n    <tr>\n      <th>21</th>\n      <td>2012</td>\n      <td>46.335917</td>\n      <td>-64.325500</td>\n      <td>2012-06-28 07:59:00</td>\n    </tr>\n    <tr>\n      <th>36</th>\n      <td>2012</td>\n      <td>46.324417</td>\n      <td>-64.128167</td>\n      <td>2012-06-28 09:28:00</td>\n    </tr>\n    <tr>\n      <th>47</th>\n      <td>2012</td>\n      <td>46.308333</td>\n      <td>-64.108667</td>\n      <td>2012-06-28 10:14:00</td>\n    </tr>\n    <tr>\n      <th>55</th>\n      <td>2012</td>\n      <td>46.280917</td>\n      <td>-64.099417</td>\n      <td>2012-06-28 11:15:00</td>\n    </tr>\n    <tr>\n      <th>...</th>\n      <td>...</td>\n      <td>...</td>\n      <td>...</td>\n      <td>...</td>\n    </tr>\n    <tr>\n      <th>14450</th>\n      <td>2023</td>\n      <td>46.561250</td>\n      <td>-64.405667</td>\n      <td>2023-10-24 14:44:00</td>\n    </tr>\n    <tr>\n      <th>14458</th>\n      <td>2023</td>\n      <td>46.574083</td>\n      <td>-64.375500</td>\n      <td>2023-10-24 15:05:00</td>\n    </tr>\n    <tr>\n      <th>14467</th>\n      <td>2023</td>\n      <td>46.595083</td>\n      <td>-64.499583</td>\n      <td>2023-10-24 15:38:00</td>\n    </tr>\n    <tr>\n      <th>14479</th>\n      <td>2023</td>\n      <td>46.610083</td>\n      <td>-64.488083</td>\n      <td>2023-10-24 15:57:00</td>\n    </tr>\n    <tr>\n      <th>14487</th>\n      <td>2023</td>\n      <td>46.611250</td>\n      <td>-64.454583</td>\n      <td>2023-10-24 16:26:00</td>\n    </tr>\n  </tbody>\n</table>\n<p>1374 rows × 4 columns</p>\n</div>"
     },
     "execution_count": 3,
     "metadata": {},
     "output_type": "execute_result"
    }
   ],
   "source": [
    "# add a new column that is a datetime\n",
    "df[\"datetime\"] = pd.to_datetime(df.apply(combine_date, axis=1))\n",
    "df_trunc = df.sort_values(\"datetime\").loc[:, [\"year__annee\", \"latitude\", \"longitude\", \"datetime\"]]\n",
    "df_trunc = df_trunc.drop_duplicates()\n",
    "df_trunc"
   ],
   "metadata": {
    "collapsed": false,
    "ExecuteTime": {
     "end_time": "2024-03-13T11:40:41.631153200Z",
     "start_time": "2024-03-13T11:40:41.370530700Z"
    }
   }
  },
  {
   "cell_type": "code",
   "execution_count": 4,
   "outputs": [
    {
     "data": {
      "text/plain": "Empty DataFrame\nColumns: [year__annee, latitude, longitude, datetime]\nIndex: []",
      "text/html": "<div>\n<style scoped>\n    .dataframe tbody tr th:only-of-type {\n        vertical-align: middle;\n    }\n\n    .dataframe tbody tr th {\n        vertical-align: top;\n    }\n\n    .dataframe thead th {\n        text-align: right;\n    }\n</style>\n<table border=\"1\" class=\"dataframe\">\n  <thead>\n    <tr style=\"text-align: right;\">\n      <th></th>\n      <th>year__annee</th>\n      <th>latitude</th>\n      <th>longitude</th>\n      <th>datetime</th>\n    </tr>\n  </thead>\n  <tbody>\n  </tbody>\n</table>\n</div>"
     },
     "execution_count": 4,
     "metadata": {},
     "output_type": "execute_result"
    }
   ],
   "source": [
    "# Seems like there are some bad points. Let's have a closer look\n",
    "mask = (df_trunc[\"latitude\"] > 50) | (df_trunc[\"longitude\"] > -60)\n",
    "df_trunc[mask]\n"
   ],
   "metadata": {
    "collapsed": false,
    "ExecuteTime": {
     "end_time": "2024-03-13T11:40:41.681479200Z",
     "start_time": "2024-03-13T11:40:41.631153200Z"
    }
   }
  },
  {
   "cell_type": "code",
   "execution_count": 5,
   "outputs": [
    {
     "data": {
      "text/plain": "       year__annee   latitude  longitude            datetime\n0             2012  46.249083 -64.331250 2012-06-27 13:57:00\n21            2012  46.335917 -64.325500 2012-06-28 07:59:00\n36            2012  46.324417 -64.128167 2012-06-28 09:28:00\n47            2012  46.308333 -64.108667 2012-06-28 10:14:00\n55            2012  46.280917 -64.099417 2012-06-28 11:15:00\n...            ...        ...        ...                 ...\n14450         2023  46.561250 -64.405667 2023-10-24 14:44:00\n14458         2023  46.574083 -64.375500 2023-10-24 15:05:00\n14467         2023  46.595083 -64.499583 2023-10-24 15:38:00\n14479         2023  46.610083 -64.488083 2023-10-24 15:57:00\n14487         2023  46.611250 -64.454583 2023-10-24 16:26:00\n\n[1374 rows x 4 columns]",
      "text/html": "<div>\n<style scoped>\n    .dataframe tbody tr th:only-of-type {\n        vertical-align: middle;\n    }\n\n    .dataframe tbody tr th {\n        vertical-align: top;\n    }\n\n    .dataframe thead th {\n        text-align: right;\n    }\n</style>\n<table border=\"1\" class=\"dataframe\">\n  <thead>\n    <tr style=\"text-align: right;\">\n      <th></th>\n      <th>year__annee</th>\n      <th>latitude</th>\n      <th>longitude</th>\n      <th>datetime</th>\n    </tr>\n  </thead>\n  <tbody>\n    <tr>\n      <th>0</th>\n      <td>2012</td>\n      <td>46.249083</td>\n      <td>-64.331250</td>\n      <td>2012-06-27 13:57:00</td>\n    </tr>\n    <tr>\n      <th>21</th>\n      <td>2012</td>\n      <td>46.335917</td>\n      <td>-64.325500</td>\n      <td>2012-06-28 07:59:00</td>\n    </tr>\n    <tr>\n      <th>36</th>\n      <td>2012</td>\n      <td>46.324417</td>\n      <td>-64.128167</td>\n      <td>2012-06-28 09:28:00</td>\n    </tr>\n    <tr>\n      <th>47</th>\n      <td>2012</td>\n      <td>46.308333</td>\n      <td>-64.108667</td>\n      <td>2012-06-28 10:14:00</td>\n    </tr>\n    <tr>\n      <th>55</th>\n      <td>2012</td>\n      <td>46.280917</td>\n      <td>-64.099417</td>\n      <td>2012-06-28 11:15:00</td>\n    </tr>\n    <tr>\n      <th>...</th>\n      <td>...</td>\n      <td>...</td>\n      <td>...</td>\n      <td>...</td>\n    </tr>\n    <tr>\n      <th>14450</th>\n      <td>2023</td>\n      <td>46.561250</td>\n      <td>-64.405667</td>\n      <td>2023-10-24 14:44:00</td>\n    </tr>\n    <tr>\n      <th>14458</th>\n      <td>2023</td>\n      <td>46.574083</td>\n      <td>-64.375500</td>\n      <td>2023-10-24 15:05:00</td>\n    </tr>\n    <tr>\n      <th>14467</th>\n      <td>2023</td>\n      <td>46.595083</td>\n      <td>-64.499583</td>\n      <td>2023-10-24 15:38:00</td>\n    </tr>\n    <tr>\n      <th>14479</th>\n      <td>2023</td>\n      <td>46.610083</td>\n      <td>-64.488083</td>\n      <td>2023-10-24 15:57:00</td>\n    </tr>\n    <tr>\n      <th>14487</th>\n      <td>2023</td>\n      <td>46.611250</td>\n      <td>-64.454583</td>\n      <td>2023-10-24 16:26:00</td>\n    </tr>\n  </tbody>\n</table>\n<p>1374 rows × 4 columns</p>\n</div>"
     },
     "execution_count": 5,
     "metadata": {},
     "output_type": "execute_result"
    }
   ],
   "source": [
    "# let's remove those rows\n",
    "df_trunc = df_trunc[~mask]\n",
    "df_trunc"
   ],
   "metadata": {
    "collapsed": false,
    "ExecuteTime": {
     "end_time": "2024-03-13T11:40:41.768280900Z",
     "start_time": "2024-03-13T11:40:41.662513Z"
    }
   }
  },
  {
   "cell_type": "code",
   "execution_count": 6,
   "outputs": [],
   "source": [
    "from stock_assessment_surveys.utils.xy2line import xy2line\n",
    "xy2line(df_trunc)"
   ],
   "metadata": {
    "collapsed": false,
    "ExecuteTime": {
     "end_time": "2024-03-13T11:40:41.974248700Z",
     "start_time": "2024-03-13T11:40:41.676826Z"
    }
   }
  }
 ],
 "metadata": {
  "kernelspec": {
   "display_name": "Python 3",
   "language": "python",
   "name": "python3"
  },
  "language_info": {
   "codemirror_mode": {
    "name": "ipython",
    "version": 2
   },
   "file_extension": ".py",
   "mimetype": "text/x-python",
   "name": "python",
   "nbconvert_exporter": "python",
   "pygments_lexer": "ipython2",
   "version": "2.7.6"
  }
 },
 "nbformat": 4,
 "nbformat_minor": 0
}
