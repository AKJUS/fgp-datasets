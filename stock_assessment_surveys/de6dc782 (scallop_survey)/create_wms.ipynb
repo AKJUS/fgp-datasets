{
 "cells": [
  {
   "cell_type": "code",
   "execution_count": 1,
   "metadata": {
    "collapsed": true
   },
   "outputs": [
    {
     "data": {
      "text/plain": "Index(['year__annee', 'month__mois', 'day__jour',\n       'start_hour__heure_de_depart', 'start_minute__minute_de_depart',\n       'latitude', 'longitude', 'gear__equipement', 'species__espece',\n       'french_name__nom_francais', 'english_name__nom_anglais',\n       'latin_name__nom_latin', 'weight_caught__poids_pris',\n       'number_caught__quantite_attrape'],\n      dtype='object')"
     },
     "execution_count": 1,
     "metadata": {},
     "output_type": "execute_result"
    }
   ],
   "source": [
    "import os.path\n",
    "import shutil\n",
    "\n",
    "import numpy as np\n",
    "import pandas as pd\n",
    "\n",
    "df = pd.read_csv(\"data resources/sGSL-scallop-RV-FGP.csv\", encoding=\"windows-1252\")\n",
    "df.columns"
   ]
  },
  {
   "cell_type": "code",
   "execution_count": 2,
   "outputs": [],
   "source": [
    "# define the function to combine datetime from a row\n",
    "def combine_date(row):\n",
    "    year = str(row[\"year__annee\"]).zfill(4)\n",
    "    month = str(row[\"month__mois\"]).zfill(2)\n",
    "    day = str(row[\"day__jour\"]).zfill(2)\n",
    "    hour = row[\"start_hour__heure_de_depart\"]\n",
    "    minute = row[\"start_minute__minute_de_depart\"]\n",
    "    if (not isinstance(hour, str) and np.isnan(hour)) or (not isinstance(minute, str) and np.isnan(minute)):\n",
    "        return f\"{year}-{month}-{day}\"\n",
    "    else:\n",
    "        return f\"{year}-{month}-{day} {int(hour)}:{int(minute)}\""
   ],
   "metadata": {
    "collapsed": false
   }
  },
  {
   "cell_type": "code",
   "execution_count": 3,
   "outputs": [
    {
     "data": {
      "text/plain": "       year__annee   latitude  longitude            datetime\n0             2012  46.249083 -64.331250 2012-06-27 13:57:00\n22            2012  46.335917 -64.325500 2012-06-28 07:59:00\n31            2012  46.324417 -64.128167 2012-06-28 09:28:00\n45            2012  46.308333 -64.108667 2012-06-28 10:14:00\n59            2012  46.280917 -64.099417 2012-06-28 11:15:00\n...            ...        ...        ...                 ...\n11484         2022  46.578333 -64.448167 2022-10-18 08:55:00\n11504         2022  46.585250 -64.467250 2022-10-18 09:23:00\n11514         2022  46.593750 -64.483833 2022-10-18 10:02:00\n11518         2022  46.594917 -64.404083 2022-10-18 10:42:00\n11522         2022  46.606250 -64.420500 2022-10-18 11:04:00\n\n[1126 rows x 4 columns]",
      "text/html": "<div>\n<style scoped>\n    .dataframe tbody tr th:only-of-type {\n        vertical-align: middle;\n    }\n\n    .dataframe tbody tr th {\n        vertical-align: top;\n    }\n\n    .dataframe thead th {\n        text-align: right;\n    }\n</style>\n<table border=\"1\" class=\"dataframe\">\n  <thead>\n    <tr style=\"text-align: right;\">\n      <th></th>\n      <th>year__annee</th>\n      <th>latitude</th>\n      <th>longitude</th>\n      <th>datetime</th>\n    </tr>\n  </thead>\n  <tbody>\n    <tr>\n      <th>0</th>\n      <td>2012</td>\n      <td>46.249083</td>\n      <td>-64.331250</td>\n      <td>2012-06-27 13:57:00</td>\n    </tr>\n    <tr>\n      <th>22</th>\n      <td>2012</td>\n      <td>46.335917</td>\n      <td>-64.325500</td>\n      <td>2012-06-28 07:59:00</td>\n    </tr>\n    <tr>\n      <th>31</th>\n      <td>2012</td>\n      <td>46.324417</td>\n      <td>-64.128167</td>\n      <td>2012-06-28 09:28:00</td>\n    </tr>\n    <tr>\n      <th>45</th>\n      <td>2012</td>\n      <td>46.308333</td>\n      <td>-64.108667</td>\n      <td>2012-06-28 10:14:00</td>\n    </tr>\n    <tr>\n      <th>59</th>\n      <td>2012</td>\n      <td>46.280917</td>\n      <td>-64.099417</td>\n      <td>2012-06-28 11:15:00</td>\n    </tr>\n    <tr>\n      <th>...</th>\n      <td>...</td>\n      <td>...</td>\n      <td>...</td>\n      <td>...</td>\n    </tr>\n    <tr>\n      <th>11484</th>\n      <td>2022</td>\n      <td>46.578333</td>\n      <td>-64.448167</td>\n      <td>2022-10-18 08:55:00</td>\n    </tr>\n    <tr>\n      <th>11504</th>\n      <td>2022</td>\n      <td>46.585250</td>\n      <td>-64.467250</td>\n      <td>2022-10-18 09:23:00</td>\n    </tr>\n    <tr>\n      <th>11514</th>\n      <td>2022</td>\n      <td>46.593750</td>\n      <td>-64.483833</td>\n      <td>2022-10-18 10:02:00</td>\n    </tr>\n    <tr>\n      <th>11518</th>\n      <td>2022</td>\n      <td>46.594917</td>\n      <td>-64.404083</td>\n      <td>2022-10-18 10:42:00</td>\n    </tr>\n    <tr>\n      <th>11522</th>\n      <td>2022</td>\n      <td>46.606250</td>\n      <td>-64.420500</td>\n      <td>2022-10-18 11:04:00</td>\n    </tr>\n  </tbody>\n</table>\n<p>1126 rows × 4 columns</p>\n</div>"
     },
     "execution_count": 3,
     "metadata": {},
     "output_type": "execute_result"
    }
   ],
   "source": [
    "# add a new column that is a datetime\n",
    "df[\"datetime\"] = pd.to_datetime(df.apply(combine_date, axis=1))\n",
    "df_trunc = df.sort_values(\"datetime\").loc[:, [\"year__annee\", \"latitude\", \"longitude\", \"datetime\"]]\n",
    "df_trunc = df_trunc.drop_duplicates()\n",
    "df_trunc"
   ],
   "metadata": {
    "collapsed": false
   }
  },
  {
   "cell_type": "code",
   "execution_count": 4,
   "outputs": [
    {
     "data": {
      "text/plain": "Empty DataFrame\nColumns: [year__annee, latitude, longitude, datetime]\nIndex: []",
      "text/html": "<div>\n<style scoped>\n    .dataframe tbody tr th:only-of-type {\n        vertical-align: middle;\n    }\n\n    .dataframe tbody tr th {\n        vertical-align: top;\n    }\n\n    .dataframe thead th {\n        text-align: right;\n    }\n</style>\n<table border=\"1\" class=\"dataframe\">\n  <thead>\n    <tr style=\"text-align: right;\">\n      <th></th>\n      <th>year__annee</th>\n      <th>latitude</th>\n      <th>longitude</th>\n      <th>datetime</th>\n    </tr>\n  </thead>\n  <tbody>\n  </tbody>\n</table>\n</div>"
     },
     "execution_count": 4,
     "metadata": {},
     "output_type": "execute_result"
    }
   ],
   "source": [
    "# Seems like there are some bad points. Let's have a closer look\n",
    "mask = (df_trunc[\"latitude\"] > 50) | (df_trunc[\"longitude\"] > -60)\n",
    "df_trunc[mask]\n"
   ],
   "metadata": {
    "collapsed": false
   }
  },
  {
   "cell_type": "code",
   "execution_count": 5,
   "outputs": [
    {
     "data": {
      "text/plain": "       year__annee   latitude  longitude            datetime\n0             2012  46.249083 -64.331250 2012-06-27 13:57:00\n22            2012  46.335917 -64.325500 2012-06-28 07:59:00\n31            2012  46.324417 -64.128167 2012-06-28 09:28:00\n45            2012  46.308333 -64.108667 2012-06-28 10:14:00\n59            2012  46.280917 -64.099417 2012-06-28 11:15:00\n...            ...        ...        ...                 ...\n11484         2022  46.578333 -64.448167 2022-10-18 08:55:00\n11504         2022  46.585250 -64.467250 2022-10-18 09:23:00\n11514         2022  46.593750 -64.483833 2022-10-18 10:02:00\n11518         2022  46.594917 -64.404083 2022-10-18 10:42:00\n11522         2022  46.606250 -64.420500 2022-10-18 11:04:00\n\n[1126 rows x 4 columns]",
      "text/html": "<div>\n<style scoped>\n    .dataframe tbody tr th:only-of-type {\n        vertical-align: middle;\n    }\n\n    .dataframe tbody tr th {\n        vertical-align: top;\n    }\n\n    .dataframe thead th {\n        text-align: right;\n    }\n</style>\n<table border=\"1\" class=\"dataframe\">\n  <thead>\n    <tr style=\"text-align: right;\">\n      <th></th>\n      <th>year__annee</th>\n      <th>latitude</th>\n      <th>longitude</th>\n      <th>datetime</th>\n    </tr>\n  </thead>\n  <tbody>\n    <tr>\n      <th>0</th>\n      <td>2012</td>\n      <td>46.249083</td>\n      <td>-64.331250</td>\n      <td>2012-06-27 13:57:00</td>\n    </tr>\n    <tr>\n      <th>22</th>\n      <td>2012</td>\n      <td>46.335917</td>\n      <td>-64.325500</td>\n      <td>2012-06-28 07:59:00</td>\n    </tr>\n    <tr>\n      <th>31</th>\n      <td>2012</td>\n      <td>46.324417</td>\n      <td>-64.128167</td>\n      <td>2012-06-28 09:28:00</td>\n    </tr>\n    <tr>\n      <th>45</th>\n      <td>2012</td>\n      <td>46.308333</td>\n      <td>-64.108667</td>\n      <td>2012-06-28 10:14:00</td>\n    </tr>\n    <tr>\n      <th>59</th>\n      <td>2012</td>\n      <td>46.280917</td>\n      <td>-64.099417</td>\n      <td>2012-06-28 11:15:00</td>\n    </tr>\n    <tr>\n      <th>...</th>\n      <td>...</td>\n      <td>...</td>\n      <td>...</td>\n      <td>...</td>\n    </tr>\n    <tr>\n      <th>11484</th>\n      <td>2022</td>\n      <td>46.578333</td>\n      <td>-64.448167</td>\n      <td>2022-10-18 08:55:00</td>\n    </tr>\n    <tr>\n      <th>11504</th>\n      <td>2022</td>\n      <td>46.585250</td>\n      <td>-64.467250</td>\n      <td>2022-10-18 09:23:00</td>\n    </tr>\n    <tr>\n      <th>11514</th>\n      <td>2022</td>\n      <td>46.593750</td>\n      <td>-64.483833</td>\n      <td>2022-10-18 10:02:00</td>\n    </tr>\n    <tr>\n      <th>11518</th>\n      <td>2022</td>\n      <td>46.594917</td>\n      <td>-64.404083</td>\n      <td>2022-10-18 10:42:00</td>\n    </tr>\n    <tr>\n      <th>11522</th>\n      <td>2022</td>\n      <td>46.606250</td>\n      <td>-64.420500</td>\n      <td>2022-10-18 11:04:00</td>\n    </tr>\n  </tbody>\n</table>\n<p>1126 rows × 4 columns</p>\n</div>"
     },
     "execution_count": 5,
     "metadata": {},
     "output_type": "execute_result"
    }
   ],
   "source": [
    "# let's remove those rows\n",
    "df_trunc = df_trunc[~mask]\n",
    "df_trunc"
   ],
   "metadata": {
    "collapsed": false
   }
  },
  {
   "cell_type": "code",
   "execution_count": 6,
   "outputs": [],
   "source": [
    "from stock_assessment_surveys.utils.xy2line import xy2line\n",
    "xy2line(df_trunc)"
   ],
   "metadata": {
    "collapsed": false
   }
  }
 ],
 "metadata": {
  "kernelspec": {
   "display_name": "Python 3",
   "language": "python",
   "name": "python3"
  },
  "language_info": {
   "codemirror_mode": {
    "name": "ipython",
    "version": 2
   },
   "file_extension": ".py",
   "mimetype": "text/x-python",
   "name": "python",
   "nbconvert_exporter": "python",
   "pygments_lexer": "ipython2",
   "version": "2.7.6"
  }
 },
 "nbformat": 4,
 "nbformat_minor": 0
}
