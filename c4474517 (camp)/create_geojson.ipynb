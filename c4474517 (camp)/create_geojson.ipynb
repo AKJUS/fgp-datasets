{
 "cells": [
  {
   "cell_type": "code",
   "execution_count": 13,
   "outputs": [],
   "source": [
    "import geojson\n",
    "import pandas as pd\n",
    "from geojson import Feature, Point, FeatureCollection\n",
    "\n",
    "df_eng = pd.read_csv(\"./mapping/camp_wms_en.csv\", encoding=\"windows-1252\")\n",
    "cols = df_eng.columns.tolist()\n",
    "cols.remove(\"station longitude\")\n",
    "cols.remove(\"station latitude\")\n",
    "\n",
    "feature_list = list()\n",
    "for index, row in df_eng.iterrows():\n",
    "    properties = dict()\n",
    "    for c in cols:\n",
    "        properties[c] = str(row[c])\n",
    "    feature_list.append(\n",
    "        Feature(geometry=Point((row[\"station longitude\"], row[\"station latitude\"])),\n",
    "                properties=properties)\n",
    "    )\n",
    "\n",
    "collection = FeatureCollection(feature_list)\n",
    "with open(\"./mapping/CAMP WMS (EN).geojson\", \"w\", encoding=\"utf8\") as file:\n",
    "    file.write(geojson.dumps(collection).encode(\"utf8\").decode(\"utf8\"))\n",
    "\n",
    "df_fra = pd.read_csv(\"./mapping/camp_wms_fr.csv\", encoding=\"windows-1252\")\n",
    "cols = df_fra.columns.tolist()\n",
    "cols.remove(\"longitude de la station\")\n",
    "cols.remove(\"latitude de la station\")\n",
    "\n",
    "feature_list = list()\n",
    "for index, row in df_fra.iterrows():\n",
    "    properties = dict()\n",
    "    for c in cols:\n",
    "        properties[c] = str(row[c])\n",
    "    feature_list.append(\n",
    "        Feature(geometry=Point((row[\"longitude de la station\"], row[\"latitude de la station\"])),\n",
    "                properties=properties)\n",
    "    )\n",
    "\n",
    "collection = FeatureCollection(feature_list)\n",
    "with open(\"./mapping/CAMP WMS (FR).geojson\", \"w\", encoding=\"utf8\") as file:\n",
    "    file.write(geojson.dumps(collection).encode(\"utf8\").decode(\"utf8\"))\n",
    "\n"
   ],
   "metadata": {
    "collapsed": false,
    "ExecuteTime": {
     "end_time": "2023-12-12T17:13:32.214454400Z",
     "start_time": "2023-12-12T17:13:32.132998700Z"
    }
   },
   "id": "f8ffacbe2a38d44a"
  },
  {
   "cell_type": "code",
   "execution_count": 15,
   "outputs": [
    {
     "name": "stdout",
     "output_type": "stream",
     "text": [
      "-65.66146 45.62596 -61.01588 47.817719\n"
     ]
    }
   ],
   "source": [
    "# What is the bounding box of the dataset? \n",
    "print(\n",
    "    df_eng[\"station longitude\"].min(),\n",
    "    df_eng[\"station latitude\"].min(),\n",
    "    df_eng[\"station longitude\"].max(),\n",
    "    df_eng[\"station latitude\"].max(),\n",
    ")\n"
   ],
   "metadata": {
    "collapsed": false,
    "ExecuteTime": {
     "end_time": "2023-12-12T17:14:43.031393700Z",
     "start_time": "2023-12-12T17:14:43.006817Z"
    }
   },
   "id": "e52aa089b92838af"
  }
 ],
 "metadata": {
  "kernelspec": {
   "display_name": "Python 3",
   "language": "python",
   "name": "python3"
  },
  "language_info": {
   "codemirror_mode": {
    "name": "ipython",
    "version": 2
   },
   "file_extension": ".py",
   "mimetype": "text/x-python",
   "name": "python",
   "nbconvert_exporter": "python",
   "pygments_lexer": "ipython2",
   "version": "2.7.6"
  }
 },
 "nbformat": 4,
 "nbformat_minor": 5
}
